{
 "cells": [
  {
   "cell_type": "markdown",
   "id": "e40561da",
   "metadata": {},
   "source": [
    "## Version 1 / Feature making"
   ]
  },
  {
   "cell_type": "code",
   "execution_count": 168,
   "id": "466d8231",
   "metadata": {},
   "outputs": [],
   "source": [
    "import pandas as pd\n",
    "import numpy as np"
   ]
  },
  {
   "cell_type": "code",
   "execution_count": 281,
   "id": "309939d6",
   "metadata": {},
   "outputs": [],
   "source": [
    "train = pd.read_csv('train.csv').iloc[:,1:-1]\n",
    "train_ = pd.read_csv('train.csv')\n",
    "test = pd.read_csv('test.csv').iloc[:,1:]\n",
    "\n",
    "target = pd.read_csv('train.csv').nerdiness"
   ]
  },
  {
   "cell_type": "markdown",
   "id": "1dd986a0",
   "metadata": {},
   "source": [
    "mode로 채울 것 : Q시리즈, TIPI시리즈, engnat, orientation, familisize  \n",
    "무응답으로 채울 것 : education, hand, married, religion, voted"
   ]
  },
  {
   "cell_type": "code",
   "execution_count": 284,
   "id": "270e7032",
   "metadata": {},
   "outputs": [],
   "source": [
    "# 존재하지 않는 값으로 결측치 채우기 \n",
    "train['hand'] = train.hand.fillna(4)\n",
    "test['hand'] = test.hand.fillna(4)\n",
    "train_['hand'] = train_.hand.fillna(4)\n",
    "\n",
    "train['religion'] = train.religion.fillna(13)\n",
    "test['religion'] = test.religion.fillna(13)\n",
    "train_['religion'] = train_.religion.fillna(13)\n",
    "\n",
    "train['married'] = train.married.fillna(4)\n",
    "test['married'] = test.married.fillna(4)\n",
    "train_['married'] = train_.married.fillna(4)\n",
    "\n",
    "train['education'] = train.education.fillna(5)\n",
    "test['education'] = test.education.fillna(5)\n",
    "train_['education'] = train_.education.fillna(5)\n",
    "\n",
    "train['voted'] = train.voted.fillna(3)\n",
    "test['voted'] = test.voted.fillna(3)\n",
    "train_['voted'] = train_.voted.fillna(3)"
   ]
  },
  {
   "cell_type": "code",
   "execution_count": 285,
   "id": "1373262f",
   "metadata": {},
   "outputs": [],
   "source": [
    "for i in train.columns:\n",
    "    train.loc[train[i].isna(), i] = train[i].mode()[0]\n",
    "    \n",
    "for i in test.columns:\n",
    "    test.loc[test[i].isna(), i] = test[i].mode()[0]\n",
    "    \n",
    "for i in train_.columns:\n",
    "    train_.loc[train_[i].isna(), i] = train_[i].mode()[0]"
   ]
  },
  {
   "cell_type": "code",
   "execution_count": 286,
   "id": "6f61becb",
   "metadata": {},
   "outputs": [
    {
     "data": {
      "text/plain": [
       "0"
      ]
     },
     "execution_count": 286,
     "metadata": {},
     "output_type": "execute_result"
    }
   ],
   "source": [
    "# 결측치 확인\n",
    "train.isna().sum().sum()"
   ]
  },
  {
   "cell_type": "code",
   "execution_count": 287,
   "id": "23b93df6",
   "metadata": {},
   "outputs": [
    {
     "data": {
      "text/plain": [
       "0"
      ]
     },
     "execution_count": 287,
     "metadata": {},
     "output_type": "execute_result"
    }
   ],
   "source": [
    "test.isna().sum().sum()"
   ]
  },
  {
   "cell_type": "code",
   "execution_count": 288,
   "id": "cfe86c73",
   "metadata": {},
   "outputs": [],
   "source": [
    "final_train = train.copy()\n",
    "final_test = test.copy()"
   ]
  },
  {
   "cell_type": "code",
   "execution_count": 289,
   "id": "25eeb924",
   "metadata": {},
   "outputs": [
    {
     "data": {
      "text/plain": [
       "Index(['Q1', 'Q2', 'Q3', 'Q4', 'Q5', 'Q6', 'Q7', 'Q8', 'Q9', 'Q10', 'Q11',\n",
       "       'Q12', 'Q13', 'Q14', 'Q15', 'Q16', 'Q17', 'Q18', 'Q19', 'Q20', 'Q21',\n",
       "       'Q22', 'Q23', 'Q24', 'Q25', 'Q26', 'country', 'introelapse',\n",
       "       'testelapse', 'surveyelapse', 'TIPI1', 'TIPI2', 'TIPI3', 'TIPI4',\n",
       "       'TIPI5', 'TIPI6', 'TIPI7', 'TIPI8', 'TIPI9', 'TIPI10', 'VCL1', 'VCL2',\n",
       "       'VCL3', 'VCL4', 'VCL5', 'VCL6', 'VCL7', 'VCL8', 'VCL9', 'VCL10',\n",
       "       'VCL11', 'VCL12', 'VCL13', 'VCL14', 'VCL15', 'VCL16', 'education',\n",
       "       'urban', 'gender', 'engnat', 'age', 'hand', 'religion', 'orientation',\n",
       "       'voted', 'married', 'familysize', 'ASD'],\n",
       "      dtype='object')"
      ]
     },
     "execution_count": 289,
     "metadata": {},
     "output_type": "execute_result"
    }
   ],
   "source": [
    "train.columns"
   ]
  },
  {
   "cell_type": "markdown",
   "id": "8951977f",
   "metadata": {},
   "source": [
    "**column을 확인해보고 해당 column에 맞는 encoding을 진행하였습니다.**"
   ]
  },
  {
   "cell_type": "markdown",
   "id": "e6378758",
   "metadata": {},
   "source": [
    "- Q열 : target encoding"
   ]
  },
  {
   "cell_type": "code",
   "execution_count": null,
   "id": "f1e54a9e",
   "metadata": {},
   "outputs": [],
   "source": [
    "Q_columns = list(train.loc[:, train.columns[:26]].columns)\n",
    "train_Q = train.loc[:,Q_columns]\n",
    "train_Q['nerdiness'] = target\n",
    "\n",
    "for c in Q_columns:\n",
    "    mean_df = train_Q.groupby(c)['nerdiness'].agg('mean')\n",
    "    final_train[c] = train[c].map(mean_df)\n",
    "    final_test[c] = test[c].map(mean_df)"
   ]
  },
  {
   "cell_type": "markdown",
   "id": "2051926e",
   "metadata": {},
   "source": [
    "- country : Hashing Encoding"
   ]
  },
  {
   "cell_type": "code",
   "execution_count": null,
   "id": "8daf6fcd",
   "metadata": {},
   "outputs": [],
   "source": [
    "from category_encoders.hashing import HashingEncoder\n",
    "\n",
    "he = HashingEncoder(cols=['country']).fit(final_train,target)\n",
    "final_train = he.transform(final_train)\n",
    "final_test = he.transform(final_test)"
   ]
  },
  {
   "cell_type": "markdown",
   "id": "5fcdc63a",
   "metadata": {},
   "source": [
    "- 시간관련 : 값 간의 편차가 크기 때문에 log변환"
   ]
  },
  {
   "cell_type": "code",
   "execution_count": null,
   "id": "bf8b38ca",
   "metadata": {},
   "outputs": [],
   "source": [
    "train_time = train[['introelapse', 'testelapse', 'surveyelapse']]\n",
    "test_time = test[['introelapse', 'testelapse', 'surveyelapse']]\n",
    "\n",
    "final_train[['introelapse', 'testelapse', 'surveyelapse']] = np.log1p(train_time)\n",
    "final_test[['introelapse', 'testelapse', 'surveyelapse']] = np.log1p(test_time)"
   ]
  },
  {
   "cell_type": "markdown",
   "id": "87aecf8a",
   "metadata": {},
   "source": [
    "- TP : target encoding"
   ]
  },
  {
   "cell_type": "code",
   "execution_count": null,
   "id": "a2e8706f",
   "metadata": {},
   "outputs": [],
   "source": [
    "tp_columns = [x for x in train.columns if x.startswith('TIPI')]\n",
    "\n",
    "for column in tp_columns:\n",
    "    mean_df = train_.groupby(column)['nerdiness'].agg('mean')\n",
    "    final_train[column] = train[column].map(mean_df)\n",
    "    final_test[column] = test[column].map(mean_df)"
   ]
  },
  {
   "cell_type": "markdown",
   "id": "4cd33096",
   "metadata": {},
   "source": [
    "- VCL : one-hot-encoding"
   ]
  },
  {
   "cell_type": "code",
   "execution_count": 297,
   "id": "aa66eed1",
   "metadata": {},
   "outputs": [],
   "source": [
    "from sklearn.preprocessing import OneHotEncoder\n",
    "\n",
    "vcl_columns = [x for x in train.columns if x.startswith('VCL')]\n",
    "for column in vcl_columns:\n",
    "    encoder = OneHotEncoder()\n",
    "    encoded = encoder.fit_transform(train[[column]]).toarray()\n",
    "    final_train[column+'_0'] = encoded[:,0]\n",
    "    final_train[column+'_1'] = encoded[:,1]\n",
    "    final_train = final_train.drop(columns = [column])\n",
    "\n",
    "    encoded = encoder.transform(test[[column]]).toarray()\n",
    "    final_test[column+'_0'] = encoded[:,0]\n",
    "    final_test[column+'_1'] = encoded[:,1]\n",
    "    final_test = final_test.drop(columns = [column])"
   ]
  },
  {
   "cell_type": "markdown",
   "id": "80af6af7",
   "metadata": {},
   "source": [
    "- education : target encoding"
   ]
  },
  {
   "cell_type": "code",
   "execution_count": null,
   "id": "8dff873e",
   "metadata": {},
   "outputs": [],
   "source": [
    "mean_df = train_.groupby('education')['nerdiness'].agg('mean')\n",
    "final_train['education'] = train['education'].map(mean_df)\n",
    "final_test['education'] = test['education'].map(mean_df)"
   ]
  },
  {
   "cell_type": "markdown",
   "id": "87371d41",
   "metadata": {},
   "source": [
    "- urban : target encoding"
   ]
  },
  {
   "cell_type": "code",
   "execution_count": null,
   "id": "9df6b143",
   "metadata": {},
   "outputs": [],
   "source": [
    "column = 'urban'\n",
    "mean_df = train_.groupby(column)['nerdiness'].agg('mean')\n",
    "final_train[column] = train[column].map(mean_df)\n",
    "final_test[column] = test[column].map(mean_df)"
   ]
  },
  {
   "cell_type": "markdown",
   "id": "ed37a4e4",
   "metadata": {},
   "source": [
    "- gender : one-hot-encoding"
   ]
  },
  {
   "cell_type": "code",
   "execution_count": 301,
   "id": "04e5e685",
   "metadata": {},
   "outputs": [],
   "source": [
    "encoder = OneHotEncoder()\n",
    "encoded = encoder.fit_transform(train[['gender']]).toarray()\n",
    "final_train['gender_0'] = encoded[:,0]\n",
    "final_train['gender_1'] = encoded[:,1]\n",
    "final_train = final_train.drop(columns = ['gender'])\n",
    "\n",
    "encoded = encoder.transform(test[['gender']]).toarray()\n",
    "final_test['gender_0'] = encoded[:,0]\n",
    "final_test['gender_1'] = encoded[:,1]\n",
    "final_test = final_test.drop(columns = ['gender'])"
   ]
  },
  {
   "cell_type": "markdown",
   "id": "7c380b3e",
   "metadata": {},
   "source": [
    "- engnat : target encoding"
   ]
  },
  {
   "cell_type": "code",
   "execution_count": null,
   "id": "2f394238",
   "metadata": {},
   "outputs": [],
   "source": [
    "mean_df = train_.groupby('engnat')['nerdiness'].agg('mean')\n",
    "final_train['engnat'] = train['engnat'].map(mean_df)\n",
    "final_test['engnat'] = test['engnat'].map(mean_df)"
   ]
  },
  {
   "cell_type": "markdown",
   "id": "0abf4a7a",
   "metadata": {},
   "source": [
    "- hand : target encoding"
   ]
  },
  {
   "cell_type": "code",
   "execution_count": null,
   "id": "396ee230",
   "metadata": {},
   "outputs": [],
   "source": [
    "mean_df = train_.groupby('hand')['nerdiness'].agg('mean')\n",
    "final_train['hand'] = train['hand'].map(mean_df)\n",
    "final_test['hand'] = test['hand'].map(mean_df)"
   ]
  },
  {
   "cell_type": "markdown",
   "id": "b60ea69b",
   "metadata": {},
   "source": [
    "- orientation : target encoding"
   ]
  },
  {
   "cell_type": "code",
   "execution_count": null,
   "id": "dcfbf582",
   "metadata": {},
   "outputs": [],
   "source": [
    "mean_df = train_.groupby('orientation')['nerdiness'].agg('mean')\n",
    "final_train['orientation'] = train['orientation'].map(mean_df)\n",
    "final_test['orientation'] = test['orientation'].map(mean_df)"
   ]
  },
  {
   "cell_type": "markdown",
   "id": "804c0eff",
   "metadata": {},
   "source": [
    "- married : target encoding"
   ]
  },
  {
   "cell_type": "code",
   "execution_count": null,
   "id": "9f221cb4",
   "metadata": {},
   "outputs": [],
   "source": [
    "mean_df = train_.groupby('married')['nerdiness'].agg('mean')\n",
    "final_train['married'] = train['married'].map(mean_df)\n",
    "final_test['married'] = test['married'].map(mean_df)"
   ]
  },
  {
   "cell_type": "markdown",
   "id": "ab9824cb",
   "metadata": {},
   "source": [
    "- familysize : 10인 이상은 10인 이상으로 취급 + target encoding"
   ]
  },
  {
   "cell_type": "code",
   "execution_count": null,
   "id": "19d674d9",
   "metadata": {},
   "outputs": [],
   "source": [
    "train_.familysize = train_.familysize.apply(lambda x : 10 if x >= 10 else x) #10인 이상은 그냥 10인 이상 가구로 결정\n",
    "\n",
    "mean_df = train_.groupby('familysize')['nerdiness'].agg('mean')\n",
    "final_train['familysize'] = train_['familysize'].map(mean_df)\n",
    "\n",
    "final_test.familysize = final_test.familysize.apply(lambda x : 10 if x >= 10 else x)\n",
    "final_test['familysize'] = final_test['familysize'].map(mean_df)"
   ]
  },
  {
   "cell_type": "markdown",
   "id": "aca6a65c",
   "metadata": {},
   "source": [
    "- ASD : target encoding"
   ]
  },
  {
   "cell_type": "code",
   "execution_count": null,
   "id": "c1847cfa",
   "metadata": {},
   "outputs": [],
   "source": [
    "mean_df = train_.groupby('ASD')['nerdiness'].agg('mean')\n",
    "final_train['ASD'] = train['ASD'].map(mean_df)\n",
    "final_test['ASD'] = test['ASD'].map(mean_df)"
   ]
  },
  {
   "cell_type": "code",
   "execution_count": 314,
   "id": "945b85ad",
   "metadata": {},
   "outputs": [
    {
     "data": {
      "text/plain": [
       "0"
      ]
     },
     "execution_count": 314,
     "metadata": {},
     "output_type": "execute_result"
    }
   ],
   "source": [
    "final_train.isna().sum().sum()"
   ]
  },
  {
   "cell_type": "code",
   "execution_count": 315,
   "id": "219014a8",
   "metadata": {},
   "outputs": [
    {
     "data": {
      "text/plain": [
       "0"
      ]
     },
     "execution_count": 315,
     "metadata": {},
     "output_type": "execute_result"
    }
   ],
   "source": [
    "final_test.isna().sum().sum()"
   ]
  },
  {
   "cell_type": "code",
   "execution_count": 363,
   "id": "b05810a6",
   "metadata": {},
   "outputs": [],
   "source": [
    "# save feature\n",
    "final_train.to_csv('final_train.csv',index=False)\n",
    "final_test.to_csv('final_test.csv',index=False)"
   ]
  },
  {
   "cell_type": "markdown",
   "id": "6bce0a04",
   "metadata": {},
   "source": [
    "## Version 1 / Modeling"
   ]
  },
  {
   "cell_type": "code",
   "execution_count": null,
   "id": "10af0070",
   "metadata": {},
   "outputs": [],
   "source": [
    "import pandas as pd\n",
    "import numpy as np\n",
    "\n",
    "from sklearn.model_selection import cross_val_score, train_test_split\n",
    "from sklearn.model_selection import StratifiedKFold\n",
    "from sklearn.metrics import roc_auc_score\n",
    "from sklearn.model_selection import cross_val_score\n",
    "from sklearn.ensemble import ExtraTreesClassifier\n",
    "\n",
    "import optuna\n",
    "import sklearn.model_selection as model_selection"
   ]
  },
  {
   "cell_type": "code",
   "execution_count": null,
   "id": "b0a0f990",
   "metadata": {},
   "outputs": [],
   "source": [
    "# 저장한 피처 불러오기\n",
    "train = pd.read_csv('final_train.csv')\n",
    "test = pd.read_csv('final_test.csv')\n",
    "target = pd.read_csv('train.csv').nerdiness"
   ]
  },
  {
   "cell_type": "markdown",
   "id": "7e8a15b9",
   "metadata": {},
   "source": [
    "target데이터 값의 비율을 일치시키기 위한 Oversampling 사용 \\( SMOTE \\)"
   ]
  },
  {
   "cell_type": "code",
   "execution_count": 6,
   "id": "8b3841ac",
   "metadata": {},
   "outputs": [],
   "source": [
    "from imblearn.over_sampling import SMOTE\n",
    "\n",
    "smote = SMOTE(random_state=2020, k_neighbors=5)\n",
    "X_smote, y_smote = smote.fit_resample(train,target)"
   ]
  },
  {
   "cell_type": "markdown",
   "id": "e12aa994",
   "metadata": {},
   "source": [
    "### ExtraTrees Optuna 튜닝"
   ]
  },
  {
   "cell_type": "code",
   "execution_count": 9,
   "id": "2cc2d454",
   "metadata": {},
   "outputs": [],
   "source": [
    "# smote기법을 사용할 경우 밑에 값이 0으로만 채워지기 때문에 전체 데이터 resampling\n",
    "X_smote[\"y_train\"]= y_smote\n",
    "X_smote=X_smote.sample(frac=1, random_state=5252)\n",
    "y_smote = X_smote[\"y_train\"]\n",
    "del X_smote[\"y_train\"]"
   ]
  },
  {
   "cell_type": "code",
   "execution_count": 14,
   "id": "fea57d50",
   "metadata": {
    "scrolled": true
   },
   "outputs": [
    {
     "name": "stderr",
     "output_type": "stream",
     "text": [
      "\u001b[32m[I 2022-08-22 02:56:58,863]\u001b[0m A new study created in memory with name: no-name-29dc5e2f-be96-4564-a7bc-ee7e64112f93\u001b[0m\n",
      "\u001b[32m[I 2022-08-22 02:57:23,106]\u001b[0m Trial 0 finished with value: 0.9076088836598302 and parameters: {'n_estimators': 697, 'min_samples_split': 3, 'max_depth': 109}. Best is trial 0 with value: 0.9076088836598302.\u001b[0m\n",
      "\u001b[32m[I 2022-08-22 02:57:59,070]\u001b[0m Trial 1 finished with value: 0.9077750999197814 and parameters: {'n_estimators': 1061, 'min_samples_split': 3, 'max_depth': 781}. Best is trial 1 with value: 0.9077750999197814.\u001b[0m\n",
      "\u001b[32m[I 2022-08-22 02:58:26,329]\u001b[0m Trial 2 finished with value: 0.9079605274181682 and parameters: {'n_estimators': 779, 'min_samples_split': 2, 'max_depth': 253}. Best is trial 2 with value: 0.9079605274181682.\u001b[0m\n",
      "\u001b[32m[I 2022-08-22 02:59:10,578]\u001b[0m Trial 3 finished with value: 0.8983458609667828 and parameters: {'n_estimators': 1470, 'min_samples_split': 10, 'max_depth': 801}. Best is trial 2 with value: 0.9079605274181682.\u001b[0m\n",
      "\u001b[32m[I 2022-08-22 02:59:30,086]\u001b[0m Trial 4 finished with value: 0.900122678635108 and parameters: {'n_estimators': 660, 'min_samples_split': 9, 'max_depth': 109}. Best is trial 2 with value: 0.9079605274181682.\u001b[0m\n",
      "\u001b[32m[I 2022-08-22 02:59:37,762]\u001b[0m Trial 5 finished with value: 0.9060085160409947 and parameters: {'n_estimators': 233, 'min_samples_split': 3, 'max_depth': 35}. Best is trial 2 with value: 0.9079605274181682.\u001b[0m\n",
      "\u001b[32m[I 2022-08-22 02:59:42,124]\u001b[0m Trial 6 finished with value: 0.905275828760242 and parameters: {'n_estimators': 128, 'min_samples_split': 2, 'max_depth': 616}. Best is trial 2 with value: 0.9079605274181682.\u001b[0m\n",
      "\u001b[32m[I 2022-08-22 02:59:57,833]\u001b[0m Trial 7 finished with value: 0.899976186648104 and parameters: {'n_estimators': 534, 'min_samples_split': 9, 'max_depth': 487}. Best is trial 2 with value: 0.9079605274181682.\u001b[0m\n",
      "\u001b[32m[I 2022-08-22 03:00:19,670]\u001b[0m Trial 8 finished with value: 0.897990058257584 and parameters: {'n_estimators': 764, 'min_samples_split': 10, 'max_depth': 272}. Best is trial 2 with value: 0.9079605274181682.\u001b[0m\n",
      "\u001b[32m[I 2022-08-22 03:00:27,609]\u001b[0m Trial 9 finished with value: 0.9067294086373728 and parameters: {'n_estimators': 241, 'min_samples_split': 2, 'max_depth': 130}. Best is trial 2 with value: 0.9079605274181682.\u001b[0m\n",
      "\u001b[32m[I 2022-08-22 03:01:03,993]\u001b[0m Trial 10 finished with value: 0.9055512381361698 and parameters: {'n_estimators': 1174, 'min_samples_split': 6, 'max_depth': 370}. Best is trial 2 with value: 0.9079605274181682.\u001b[0m\n",
      "\u001b[32m[I 2022-08-22 03:01:37,954]\u001b[0m Trial 11 finished with value: 0.906815461464477 and parameters: {'n_estimators': 1071, 'min_samples_split': 5, 'max_depth': 996}. Best is trial 2 with value: 0.9079605274181682.\u001b[0m\n",
      "\u001b[32m[I 2022-08-22 03:02:09,996]\u001b[0m Trial 12 finished with value: 0.9070125288591193 and parameters: {'n_estimators': 988, 'min_samples_split': 4, 'max_depth': 724}. Best is trial 2 with value: 0.9079605274181682.\u001b[0m\n",
      "\u001b[32m[I 2022-08-22 03:02:49,384]\u001b[0m Trial 13 finished with value: 0.9039463262228808 and parameters: {'n_estimators': 1271, 'min_samples_split': 7, 'max_depth': 945}. Best is trial 2 with value: 0.9079605274181682.\u001b[0m\n",
      "\u001b[32m[I 2022-08-22 03:03:19,116]\u001b[0m Trial 14 finished with value: 0.9070411600976728 and parameters: {'n_estimators': 920, 'min_samples_split': 4, 'max_depth': 367}. Best is trial 2 with value: 0.9079605274181682.\u001b[0m\n",
      "\u001b[32m[I 2022-08-22 03:03:35,990]\u001b[0m Trial 15 finished with value: 0.9077248148299359 and parameters: {'n_estimators': 516, 'min_samples_split': 2, 'max_depth': 551}. Best is trial 2 with value: 0.9079605274181682.\u001b[0m\n",
      "\u001b[32m[I 2022-08-22 03:04:20,396]\u001b[0m Trial 16 finished with value: 0.9070385081966063 and parameters: {'n_estimators': 1361, 'min_samples_split': 4, 'max_depth': 862}. Best is trial 2 with value: 0.9079605274181682.\u001b[0m\n",
      "\u001b[32m[I 2022-08-22 03:04:46,780]\u001b[0m Trial 17 finished with value: 0.9056620280655119 and parameters: {'n_estimators': 875, 'min_samples_split': 6, 'max_depth': 666}. Best is trial 2 with value: 0.9079605274181682.\u001b[0m\n",
      "\u001b[32m[I 2022-08-22 03:05:22,919]\u001b[0m Trial 18 finished with value: 0.9076861893751611 and parameters: {'n_estimators': 1116, 'min_samples_split': 3, 'max_depth': 253}. Best is trial 2 with value: 0.9079605274181682.\u001b[0m\n",
      "\u001b[32m[I 2022-08-22 03:05:36,707]\u001b[0m Trial 19 finished with value: 0.9036463738576199 and parameters: {'n_estimators': 459, 'min_samples_split': 7, 'max_depth': 458}. Best is trial 2 with value: 0.9079605274181682.\u001b[0m\n",
      "\u001b[32m[I 2022-08-22 03:06:04,499]\u001b[0m Trial 20 finished with value: 0.9066564348932239 and parameters: {'n_estimators': 865, 'min_samples_split': 5, 'max_depth': 777}. Best is trial 2 with value: 0.9079605274181682.\u001b[0m\n",
      "\u001b[32m[I 2022-08-22 03:06:19,927]\u001b[0m Trial 21 finished with value: 0.9077211241737281 and parameters: {'n_estimators': 458, 'min_samples_split': 2, 'max_depth': 589}. Best is trial 2 with value: 0.9079605274181682.\u001b[0m\n",
      "\u001b[32m[I 2022-08-22 03:06:37,731]\u001b[0m Trial 22 finished with value: 0.9077097138285375 and parameters: {'n_estimators': 547, 'min_samples_split': 2, 'max_depth': 547}. Best is trial 2 with value: 0.9079605274181682.\u001b[0m\n",
      "\u001b[32m[I 2022-08-22 03:06:49,485]\u001b[0m Trial 23 finished with value: 0.9066741855685218 and parameters: {'n_estimators': 355, 'min_samples_split': 3, 'max_depth': 395}. Best is trial 2 with value: 0.9079605274181682.\u001b[0m\n",
      "\u001b[32m[I 2022-08-22 03:07:11,587]\u001b[0m Trial 24 finished with value: 0.9077616252526312 and parameters: {'n_estimators': 672, 'min_samples_split': 2, 'max_depth': 683}. Best is trial 2 with value: 0.9079605274181682.\u001b[0m\n",
      "\u001b[32m[I 2022-08-22 03:07:32,877]\u001b[0m Trial 25 finished with value: 0.9076194729008844 and parameters: {'n_estimators': 664, 'min_samples_split': 3, 'max_depth': 694}. Best is trial 2 with value: 0.9079605274181682.\u001b[0m\n",
      "\u001b[32m[I 2022-08-22 03:08:04,480]\u001b[0m Trial 26 finished with value: 0.9070125288591193 and parameters: {'n_estimators': 988, 'min_samples_split': 4, 'max_depth': 864}. Best is trial 2 with value: 0.9079605274181682.\u001b[0m\n",
      "\u001b[32m[I 2022-08-22 03:08:29,721]\u001b[0m Trial 27 finished with value: 0.906663582527765 and parameters: {'n_estimators': 802, 'min_samples_split': 5, 'max_depth': 256}. Best is trial 2 with value: 0.9079605274181682.\u001b[0m\n",
      "\u001b[32m[I 2022-08-22 03:09:10,251]\u001b[0m Trial 28 finished with value: 0.9081579217041821 and parameters: {'n_estimators': 1244, 'min_samples_split': 2, 'max_depth': 758}. Best is trial 28 with value: 0.9081579217041821.\u001b[0m\n",
      "\u001b[32m[I 2022-08-22 03:09:50,606]\u001b[0m Trial 29 finished with value: 0.9077948447394375 and parameters: {'n_estimators': 1244, 'min_samples_split': 3, 'max_depth': 836}. Best is trial 28 with value: 0.9081579217041821.\u001b[0m\n",
      "\u001b[32m[I 2022-08-22 03:10:29,321]\u001b[0m Trial 30 finished with value: 0.9069947337714875 and parameters: {'n_estimators': 1243, 'min_samples_split': 4, 'max_depth': 898}. Best is trial 28 with value: 0.9081579217041821.\u001b[0m\n",
      "\u001b[32m[I 2022-08-22 03:11:14,085]\u001b[0m Trial 31 finished with value: 0.9077526270823452 and parameters: {'n_estimators': 1395, 'min_samples_split': 3, 'max_depth': 786}. Best is trial 28 with value: 0.9081579217041821.\u001b[0m\n",
      "\u001b[32m[I 2022-08-22 03:11:54,707]\u001b[0m Trial 32 finished with value: 0.9077774750407379 and parameters: {'n_estimators': 1256, 'min_samples_split': 3, 'max_depth': 758}. Best is trial 28 with value: 0.9081579217041821.\u001b[0m\n",
      "\u001b[32m[I 2022-08-22 03:12:44,556]\u001b[0m Trial 33 finished with value: 0.9078307633563554 and parameters: {'n_estimators': 1497, 'min_samples_split': 3, 'max_depth': 837}. Best is trial 28 with value: 0.9081579217041821.\u001b[0m\n",
      "\u001b[32m[I 2022-08-22 03:13:32,370]\u001b[0m Trial 34 finished with value: 0.9082407120588872 and parameters: {'n_estimators': 1478, 'min_samples_split': 2, 'max_depth': 857}. Best is trial 34 with value: 0.9082407120588872.\u001b[0m\n",
      "\u001b[32m[I 2022-08-22 03:14:20,836]\u001b[0m Trial 35 finished with value: 0.9082326244724545 and parameters: {'n_estimators': 1476, 'min_samples_split': 2, 'max_depth': 967}. Best is trial 34 with value: 0.9082407120588872.\u001b[0m\n",
      "\u001b[32m[I 2022-08-22 03:15:06,225]\u001b[0m Trial 36 finished with value: 0.9082086187107817 and parameters: {'n_estimators': 1409, 'min_samples_split': 2, 'max_depth': 941}. Best is trial 34 with value: 0.9082407120588872.\u001b[0m\n"
     ]
    },
    {
     "name": "stderr",
     "output_type": "stream",
     "text": [
      "\u001b[32m[I 2022-08-22 03:15:51,082]\u001b[0m Trial 37 finished with value: 0.908219719283219 and parameters: {'n_estimators': 1390, 'min_samples_split': 2, 'max_depth': 987}. Best is trial 34 with value: 0.9082407120588872.\u001b[0m\n",
      "\u001b[32m[I 2022-08-22 03:16:37,030]\u001b[0m Trial 38 finished with value: 0.908208907216272 and parameters: {'n_estimators': 1400, 'min_samples_split': 2, 'max_depth': 999}. Best is trial 34 with value: 0.9082407120588872.\u001b[0m\n",
      "\u001b[32m[I 2022-08-22 03:17:20,560]\u001b[0m Trial 39 finished with value: 0.9082080434247644 and parameters: {'n_estimators': 1344, 'min_samples_split': 2, 'max_depth': 995}. Best is trial 34 with value: 0.9082407120588872.\u001b[0m\n",
      "\u001b[32m[I 2022-08-22 03:18:07,386]\u001b[0m Trial 40 finished with value: 0.9082280555918223 and parameters: {'n_estimators': 1437, 'min_samples_split': 2, 'max_depth': 928}. Best is trial 34 with value: 0.9082407120588872.\u001b[0m\n",
      "\u001b[32m[I 2022-08-22 03:18:55,882]\u001b[0m Trial 41 finished with value: 0.908234189122906 and parameters: {'n_estimators': 1491, 'min_samples_split': 2, 'max_depth': 927}. Best is trial 34 with value: 0.9082407120588872.\u001b[0m\n",
      "\u001b[32m[I 2022-08-22 03:19:43,756]\u001b[0m Trial 42 finished with value: 0.908219794526534 and parameters: {'n_estimators': 1500, 'min_samples_split': 2, 'max_depth': 924}. Best is trial 34 with value: 0.9082407120588872.\u001b[0m\n",
      "\u001b[32m[I 2022-08-22 03:20:32,956]\u001b[0m Trial 43 finished with value: 0.908219794526534 and parameters: {'n_estimators': 1500, 'min_samples_split': 2, 'max_depth': 924}. Best is trial 34 with value: 0.9082407120588872.\u001b[0m\n",
      "\u001b[32m[I 2022-08-22 03:21:15,078]\u001b[0m Trial 44 finished with value: 0.9077395164478546 and parameters: {'n_estimators': 1315, 'min_samples_split': 3, 'max_depth': 900}. Best is trial 34 with value: 0.9082407120588872.\u001b[0m\n",
      "\u001b[32m[I 2022-08-22 03:21:57,559]\u001b[0m Trial 45 finished with value: 0.90209490330127 and parameters: {'n_estimators': 1444, 'min_samples_split': 8, 'max_depth': 939}. Best is trial 34 with value: 0.9082407120588872.\u001b[0m\n",
      "\u001b[32m[I 2022-08-22 03:22:35,619]\u001b[0m Trial 46 finished with value: 0.907760156152019 and parameters: {'n_estimators': 1158, 'min_samples_split': 3, 'max_depth': 877}. Best is trial 34 with value: 0.9082407120588872.\u001b[0m\n",
      "\u001b[32m[I 2022-08-22 03:23:21,758]\u001b[0m Trial 47 finished with value: 0.9082211280538027 and parameters: {'n_estimators': 1435, 'min_samples_split': 2, 'max_depth': 815}. Best is trial 34 with value: 0.9082407120588872.\u001b[0m\n",
      "\u001b[32m[I 2022-08-22 03:24:03,378]\u001b[0m Trial 48 finished with value: 0.9070427978952816 and parameters: {'n_estimators': 1315, 'min_samples_split': 4, 'max_depth': 823}. Best is trial 34 with value: 0.9082407120588872.\u001b[0m\n",
      "\u001b[32m[I 2022-08-22 03:24:43,218]\u001b[0m Trial 49 finished with value: 0.9081024368121774 and parameters: {'n_estimators': 1186, 'min_samples_split': 2, 'max_depth': 729}. Best is trial 34 with value: 0.9082407120588872.\u001b[0m\n"
     ]
    },
    {
     "name": "stdout",
     "output_type": "stream",
     "text": [
      "FrozenTrial(number=34, values=[0.9082407120588872], datetime_start=datetime.datetime(2022, 8, 22, 3, 12, 44, 556011), datetime_complete=datetime.datetime(2022, 8, 22, 3, 13, 32, 370097), params={'n_estimators': 1478, 'min_samples_split': 2, 'max_depth': 857}, distributions={'n_estimators': IntUniformDistribution(high=1500, low=30, step=1), 'min_samples_split': IntUniformDistribution(high=10, low=2, step=1), 'max_depth': IntUniformDistribution(high=1000, low=20, step=1)}, user_attrs={}, system_attrs={}, intermediate_values={}, trial_id=34, state=TrialState.COMPLETE, value=None)\n"
     ]
    }
   ],
   "source": [
    "def objective(trial):\n",
    "    et_n_estimators = trial.suggest_int(\"n_estimators\", 30, 1500)\n",
    "    et_min_samples_split = trial.suggest_int(\"min_samples_split\", 2, 10)\n",
    "    et_max_depth = trial.suggest_int(\"max_depth\", 20, 1000)\n",
    "    \n",
    "    classifier_obj = ExtraTreesClassifier(n_estimators=et_n_estimators,\n",
    "                                          min_samples_split=et_min_samples_split,\n",
    "                                          max_depth= et_max_depth,\n",
    "                                          random_state = 2020)\n",
    "\n",
    "    score = model_selection.cross_val_score(classifier_obj, X_smote, y_smote, scoring='roc_auc', cv=5, n_jobs=-1)\n",
    "    log_loss = score.mean()\n",
    "    return log_loss\n",
    "\n",
    "\n",
    "study = optuna.create_study(direction=\"maximize\")\n",
    "study.optimize(objective, n_trials=50)\n",
    "print(study.best_trial)"
   ]
  },
  {
   "cell_type": "code",
   "execution_count": 15,
   "id": "ec579274",
   "metadata": {},
   "outputs": [
    {
     "data": {
      "text/plain": [
       "((9963, 92), (6643, 92), (9963,), (6643,))"
      ]
     },
     "execution_count": 15,
     "metadata": {},
     "output_type": "execute_result"
    }
   ],
   "source": [
    "X_train, X_test, y_train, y_test = train_test_split(X_smote, y_smote, test_size=0.4, random_state=2020)\n",
    "X_train.shape, X_test.shape, y_train.shape, y_test.shape"
   ]
  },
  {
   "cell_type": "code",
   "execution_count": 16,
   "id": "802cf932",
   "metadata": {},
   "outputs": [
    {
     "data": {
      "text/plain": [
       "0.8900569060067252"
      ]
     },
     "execution_count": 16,
     "metadata": {},
     "output_type": "execute_result"
    }
   ],
   "source": [
    "max_et = study.best_params\n",
    "et_tune = ExtraTreesClassifier(**max_et, random_state = 2020)\n",
    "\n",
    "et_tune.fit(X_train, y_train)\n",
    "p = et_tune.predict_proba(X_test)[:,1]\n",
    "roc_auc_score(y_test,p)"
   ]
  },
  {
   "cell_type": "code",
   "execution_count": 17,
   "id": "657adff7",
   "metadata": {
    "scrolled": false
   },
   "outputs": [
    {
     "data": {
      "text/html": [
       "<div>\n",
       "<style scoped>\n",
       "    .dataframe tbody tr th:only-of-type {\n",
       "        vertical-align: middle;\n",
       "    }\n",
       "\n",
       "    .dataframe tbody tr th {\n",
       "        vertical-align: top;\n",
       "    }\n",
       "\n",
       "    .dataframe thead th {\n",
       "        text-align: right;\n",
       "    }\n",
       "</style>\n",
       "<table border=\"1\" class=\"dataframe\">\n",
       "  <thead>\n",
       "    <tr style=\"text-align: right;\">\n",
       "      <th></th>\n",
       "      <th>index</th>\n",
       "      <th>nerdiness</th>\n",
       "    </tr>\n",
       "  </thead>\n",
       "  <tbody>\n",
       "    <tr>\n",
       "      <th>0</th>\n",
       "      <td>0</td>\n",
       "      <td>0.000000</td>\n",
       "    </tr>\n",
       "    <tr>\n",
       "      <th>1</th>\n",
       "      <td>1</td>\n",
       "      <td>0.781461</td>\n",
       "    </tr>\n",
       "    <tr>\n",
       "      <th>2</th>\n",
       "      <td>2</td>\n",
       "      <td>0.803789</td>\n",
       "    </tr>\n",
       "    <tr>\n",
       "      <th>3</th>\n",
       "      <td>3</td>\n",
       "      <td>0.566306</td>\n",
       "    </tr>\n",
       "    <tr>\n",
       "      <th>4</th>\n",
       "      <td>4</td>\n",
       "      <td>1.000000</td>\n",
       "    </tr>\n",
       "    <tr>\n",
       "      <th>...</th>\n",
       "      <td>...</td>\n",
       "      <td>...</td>\n",
       "    </tr>\n",
       "    <tr>\n",
       "      <th>35447</th>\n",
       "      <td>35447</td>\n",
       "      <td>1.000000</td>\n",
       "    </tr>\n",
       "    <tr>\n",
       "      <th>35448</th>\n",
       "      <td>35448</td>\n",
       "      <td>0.711096</td>\n",
       "    </tr>\n",
       "    <tr>\n",
       "      <th>35449</th>\n",
       "      <td>35449</td>\n",
       "      <td>0.912043</td>\n",
       "    </tr>\n",
       "    <tr>\n",
       "      <th>35450</th>\n",
       "      <td>35450</td>\n",
       "      <td>0.000000</td>\n",
       "    </tr>\n",
       "    <tr>\n",
       "      <th>35451</th>\n",
       "      <td>35451</td>\n",
       "      <td>0.613667</td>\n",
       "    </tr>\n",
       "  </tbody>\n",
       "</table>\n",
       "<p>35452 rows × 2 columns</p>\n",
       "</div>"
      ],
      "text/plain": [
       "       index  nerdiness\n",
       "0          0   0.000000\n",
       "1          1   0.781461\n",
       "2          2   0.803789\n",
       "3          3   0.566306\n",
       "4          4   1.000000\n",
       "...      ...        ...\n",
       "35447  35447   1.000000\n",
       "35448  35448   0.711096\n",
       "35449  35449   0.912043\n",
       "35450  35450   0.000000\n",
       "35451  35451   0.613667\n",
       "\n",
       "[35452 rows x 2 columns]"
      ]
     },
     "execution_count": 17,
     "metadata": {},
     "output_type": "execute_result"
    }
   ],
   "source": [
    "et_tune.fit(X_smote, y_smote)\n",
    "pred = et_tune.predict_proba(test)[:,1]\n",
    "\n",
    "submission = pd.read_csv('sample_submission.csv')\n",
    "submission[\"nerdiness\"] = pred\n",
    "\n",
    "submission.to_csv('et_tune_jmj_0822.csv',index=False)\n",
    "pd.read_csv('et_tune_jmj_0822.csv')"
   ]
  },
  {
   "cell_type": "markdown",
   "id": "58690b10",
   "metadata": {},
   "source": [
    "단독 제출 public 점수 : 0.904152132"
   ]
  },
  {
   "cell_type": "markdown",
   "id": "1e648eb8",
   "metadata": {},
   "source": [
    "## Version 2 / Feature making"
   ]
  },
  {
   "cell_type": "code",
   "execution_count": null,
   "id": "015a60d0",
   "metadata": {},
   "outputs": [],
   "source": [
    "import pandas as pd\n",
    "import numpy as np\n",
    "\n",
    "\n",
    "from sklearn.metrics import roc_auc_score\n",
    "from sklearn.model_selection import cross_val_score\n",
    "\n",
    "import matplotlib.pyplot as plt\n",
    "import seaborn as sns"
   ]
  },
  {
   "cell_type": "code",
   "execution_count": null,
   "id": "e004b6a5",
   "metadata": {},
   "outputs": [],
   "source": [
    "train = pd.read_csv('train.csv').iloc[:,1:-1]\n",
    "train_ = pd.read_csv('train.csv')\n",
    "test = pd.read_csv('test.csv').iloc[:,1:]\n",
    "\n",
    "target = pd.read_csv('train.csv').nerdiness"
   ]
  },
  {
   "cell_type": "markdown",
   "id": "fffa798c",
   "metadata": {},
   "source": [
    "### 결측치 처리\n",
    "\n",
    "\n",
    "mode로 채울 것 : Q시리즈, TIPI시리즈, familysize  \n",
    "무응답\\(0\\)으로 채울 것 : education, gender, engnat, hand, religion, orientation, voted, married, ASD"
   ]
  },
  {
   "cell_type": "code",
   "execution_count": null,
   "id": "03675a3f",
   "metadata": {},
   "outputs": [],
   "source": [
    "# education, nan = 0으로 채우기\n",
    "train['education'] = train.education.fillna(0)\n",
    "test['education'] = test.education.fillna(0)\n",
    "train_['education'] = train_.education.fillna(0)\n",
    "\n",
    "# gender, nan = 0으로 채우기\n",
    "train['gender'] = train.gender.fillna(0)\n",
    "test['gender'] = test.gender.fillna(0)\n",
    "train_['gender'] = train_.gender.fillna(0)\n",
    "\n",
    "# engnat, nan = 0으로 채우기\n",
    "train['engnat'] = train.engnat.fillna(0)\n",
    "test['engnat'] = test.engnat.fillna(0)\n",
    "train_['engnat'] = train_.engnat.fillna(0)\n",
    "\n",
    "# hand, nan = 0으로 채우기\n",
    "train['hand'] = train.hand.fillna(0)\n",
    "test['hand'] = test.hand.fillna(0)\n",
    "train_['hand'] = train_.hand.fillna(0)\n",
    "\n",
    "# religion, nan = 0으로 채우기\n",
    "train['religion'] = train.religion.fillna(0)\n",
    "test['religion'] = test.religion.fillna(0)\n",
    "train_['religion'] = train_.religion.fillna(0)\n",
    "\n",
    "# orientation, nan = 0으로 채우기\n",
    "train['orientation'] = train.orientation.fillna(0)\n",
    "test['orientation'] = test.orientation.fillna(0)\n",
    "train_['orientation'] = train_.orientation.fillna(0)\n",
    "\n",
    "# voted, nan = 0으로 채우기\n",
    "train['voted'] = train.voted.fillna(0)\n",
    "test['voted'] = test.voted.fillna(0)\n",
    "train_['voted'] = train_.voted.fillna(0)\n",
    "\n",
    "# married, nan = 0으로 채우기\n",
    "train['married'] = train.married.fillna(0)\n",
    "test['married'] = test.married.fillna(0)\n",
    "train_['married'] = train_.married.fillna(0)\n",
    "\n",
    "# ASD, nan = 0으로 채우기\n",
    "train['ASD'] = train.ASD.fillna(0)\n",
    "test['ASD'] = test.ASD.fillna(0)\n",
    "train_['ASD'] = train_.ASD.fillna(0)"
   ]
  },
  {
   "cell_type": "code",
   "execution_count": null,
   "id": "121c72fe",
   "metadata": {},
   "outputs": [],
   "source": [
    "for i in train.columns:\n",
    "    train.loc[train[i].isna(), i] = train[i].mode()[0]\n",
    "    \n",
    "for i in test.columns:\n",
    "    test.loc[test[i].isna(), i] = test[i].mode()[0]\n",
    "    \n",
    "for i in train_.columns:\n",
    "    train_.loc[train_[i].isna(), i] = train_[i].mode()[0]"
   ]
  },
  {
   "cell_type": "markdown",
   "id": "93907211",
   "metadata": {},
   "source": [
    "### 이상치 처리"
   ]
  },
  {
   "cell_type": "code",
   "execution_count": null,
   "id": "7689a5f8",
   "metadata": {},
   "outputs": [],
   "source": [
    "# age 이상치 100으로 clip\n",
    "train['age'] = train['age'].apply(lambda x: np.clip(x, 10, 100))\n",
    "test['age'] = test['age'].apply(lambda x: np.clip(x, 10, 100))\n",
    "train_['age'] = train_['age'].apply(lambda x: np.clip(x, 10, 100))"
   ]
  },
  {
   "cell_type": "code",
   "execution_count": null,
   "id": "f63d8d26",
   "metadata": {},
   "outputs": [],
   "source": [
    "# familysize 이상치 15으로 clip\n",
    "train['familysize'] = train['familysize'].apply(lambda x: np.clip(x, 1, 15))\n",
    "test['familysize'] = test['familysize'].apply(lambda x: np.clip(x, 1, 15))\n",
    "train_['familysize'] = train_['familysize'].apply(lambda x: np.clip(x, 1, 15))"
   ]
  },
  {
   "cell_type": "markdown",
   "id": "4bb4a6cb",
   "metadata": {},
   "source": [
    "### 인코딩"
   ]
  },
  {
   "cell_type": "code",
   "execution_count": null,
   "id": "eea3bf41",
   "metadata": {},
   "outputs": [],
   "source": [
    "final_train = train.copy()\n",
    "final_test = test.copy()"
   ]
  },
  {
   "cell_type": "markdown",
   "id": "62593bed",
   "metadata": {},
   "source": [
    "- Q열 : target encoding"
   ]
  },
  {
   "cell_type": "code",
   "execution_count": null,
   "id": "812343c4",
   "metadata": {},
   "outputs": [],
   "source": [
    "Q_columns = list(train.loc[:, train.columns[:26]].columns)\n",
    "train_Q = train.loc[:,Q_columns]"
   ]
  },
  {
   "cell_type": "code",
   "execution_count": null,
   "id": "4659684f",
   "metadata": {},
   "outputs": [],
   "source": [
    "train_Q['nerdiness'] = target"
   ]
  },
  {
   "cell_type": "code",
   "execution_count": null,
   "id": "818022cf",
   "metadata": {},
   "outputs": [],
   "source": [
    "for c in Q_columns:\n",
    "    mean_df = train_Q.groupby(c)['nerdiness'].agg('mean')\n",
    "    final_train[c+'_t'] = train[c].map(mean_df)\n",
    "    final_test[c+'_t'] = test[c].map(mean_df)"
   ]
  },
  {
   "cell_type": "markdown",
   "id": "ef8b639a",
   "metadata": {},
   "source": [
    "- country : Hash Encoding"
   ]
  },
  {
   "cell_type": "code",
   "execution_count": null,
   "id": "10349d04",
   "metadata": {},
   "outputs": [],
   "source": [
    "from category_encoders.hashing import HashingEncoder\n",
    "\n",
    "he = HashingEncoder(cols=['country']).fit(final_train,target)\n",
    "final_train = he.transform(final_train)\n",
    "final_test = he.transform(final_test)"
   ]
  },
  {
   "cell_type": "markdown",
   "id": "0f8363e5",
   "metadata": {},
   "source": [
    "- 시간관련 : 편차가 너무 커서 log변환"
   ]
  },
  {
   "cell_type": "code",
   "execution_count": null,
   "id": "7635acd2",
   "metadata": {},
   "outputs": [],
   "source": [
    "train_time = train[['introelapse', 'testelapse', 'surveyelapse']]\n",
    "test_time = test[['introelapse', 'testelapse', 'surveyelapse']]\n",
    "\n",
    "final_train[['introelapse_t', 'testelapse_t', 'surveyelapse_t']] = np.log1p(train_time)\n",
    "final_test[['introelapse_t', 'testelapse_t', 'surveyelapse_t']] = np.log1p(test_time)"
   ]
  },
  {
   "cell_type": "markdown",
   "id": "e814b01d",
   "metadata": {},
   "source": [
    "- TP : target encoding"
   ]
  },
  {
   "cell_type": "code",
   "execution_count": null,
   "id": "5b0bb50e",
   "metadata": {},
   "outputs": [],
   "source": [
    "tp_columns = [x for x in train.columns if x.startswith('TIPI')]\n",
    "\n",
    "for column in tp_columns:\n",
    "    mean_df = train_.groupby(column)['nerdiness'].agg('mean')\n",
    "    final_train[column+'_t'] = train[column].map(mean_df)\n",
    "    final_test[column+'_t'] = test[column].map(mean_df)"
   ]
  },
  {
   "cell_type": "markdown",
   "id": "3ebc1507",
   "metadata": {},
   "source": [
    "- education : target encoding"
   ]
  },
  {
   "cell_type": "code",
   "execution_count": null,
   "id": "1050ba37",
   "metadata": {},
   "outputs": [],
   "source": [
    "mean_df = train_.groupby('education')['nerdiness'].agg('mean')\n",
    "final_train['education_t'] = train['education'].map(mean_df)\n",
    "final_test['education_t'] = test['education'].map(mean_df)"
   ]
  },
  {
   "cell_type": "markdown",
   "id": "3a8be637",
   "metadata": {},
   "source": [
    "- urban : target encoding"
   ]
  },
  {
   "cell_type": "code",
   "execution_count": null,
   "id": "d685eeff",
   "metadata": {},
   "outputs": [],
   "source": [
    "mean_df = train_.groupby('urban')['nerdiness'].agg('mean')\n",
    "final_train['urban_t'] = train['urban'].map(mean_df)\n",
    "final_test['urban_t'] = test['urban'].map(mean_df)"
   ]
  },
  {
   "cell_type": "markdown",
   "id": "1d4cc54f",
   "metadata": {},
   "source": [
    "- gender : target encoding"
   ]
  },
  {
   "cell_type": "code",
   "execution_count": null,
   "id": "94daf46a",
   "metadata": {},
   "outputs": [],
   "source": [
    "mean_df = train_.groupby('gender')['nerdiness'].agg('mean')\n",
    "final_train['gender_t'] = train['gender'].map(mean_df)\n",
    "final_test['gender_t'] = test['gender'].map(mean_df)"
   ]
  },
  {
   "cell_type": "markdown",
   "id": "5b5212d4",
   "metadata": {},
   "source": [
    "- engnat : target encoding"
   ]
  },
  {
   "cell_type": "code",
   "execution_count": null,
   "id": "2415fb00",
   "metadata": {},
   "outputs": [],
   "source": [
    "mean_df = train_.groupby('engnat')['nerdiness'].agg('mean')\n",
    "final_train['engnat_t'] = train['engnat'].map(mean_df)\n",
    "final_test['engnat_t'] = test['engnat'].map(mean_df)"
   ]
  },
  {
   "cell_type": "markdown",
   "id": "8e583ead",
   "metadata": {},
   "source": [
    "- hand : target encoding"
   ]
  },
  {
   "cell_type": "code",
   "execution_count": null,
   "id": "cca70a30",
   "metadata": {},
   "outputs": [],
   "source": [
    "mean_df = train_.groupby('hand')['nerdiness'].agg('mean')\n",
    "final_train['hand_t'] = train['hand'].map(mean_df)\n",
    "final_test['hand_t'] = test['hand'].map(mean_df)"
   ]
  },
  {
   "cell_type": "markdown",
   "id": "af4d6c87",
   "metadata": {},
   "source": [
    "- religion : target encoding"
   ]
  },
  {
   "cell_type": "code",
   "execution_count": null,
   "id": "36b59090",
   "metadata": {},
   "outputs": [],
   "source": [
    "mean_df = train_.groupby('religion')['nerdiness'].agg('mean')\n",
    "final_train['religion_t'] = train['religion'].map(mean_df)\n",
    "final_test['religion_t'] = test['religion'].map(mean_df)"
   ]
  },
  {
   "cell_type": "markdown",
   "id": "1a818f33",
   "metadata": {},
   "source": [
    "- orientation : target encoding"
   ]
  },
  {
   "cell_type": "code",
   "execution_count": null,
   "id": "b00a139b",
   "metadata": {},
   "outputs": [],
   "source": [
    "mean_df = train_.groupby('orientation')['nerdiness'].agg('mean')\n",
    "final_train['orientation_t'] = train['orientation'].map(mean_df)\n",
    "final_test['orientation_t'] = test['orientation'].map(mean_df)"
   ]
  },
  {
   "cell_type": "markdown",
   "id": "b8e5d2a1",
   "metadata": {},
   "source": [
    "- voted : target encoding"
   ]
  },
  {
   "cell_type": "code",
   "execution_count": null,
   "id": "c1dfb11d",
   "metadata": {},
   "outputs": [],
   "source": [
    "mean_df = train_.groupby('voted')['nerdiness'].agg('mean')\n",
    "final_train['voted_t'] = train['voted'].map(mean_df)\n",
    "final_test['voted_t'] = test['voted'].map(mean_df)"
   ]
  },
  {
   "cell_type": "markdown",
   "id": "ff4f79fb",
   "metadata": {},
   "source": [
    "- married : target encoding"
   ]
  },
  {
   "cell_type": "code",
   "execution_count": null,
   "id": "10386a76",
   "metadata": {},
   "outputs": [],
   "source": [
    "mean_df = train_.groupby('married')['nerdiness'].agg('mean')\n",
    "final_train['married_t'] = train['married'].map(mean_df)\n",
    "final_test['married_t'] = test['married'].map(mean_df)"
   ]
  },
  {
   "cell_type": "markdown",
   "id": "2f7af96a",
   "metadata": {},
   "source": [
    "- familysize : target encoding"
   ]
  },
  {
   "cell_type": "code",
   "execution_count": null,
   "id": "f7e80753",
   "metadata": {},
   "outputs": [],
   "source": [
    "mean_df = train_.groupby('familysize')['nerdiness'].agg('mean')\n",
    "final_train['familysize_t'] = train['familysize'].map(mean_df)\n",
    "final_test['familysize_t'] = test['familysize'].map(mean_df)"
   ]
  },
  {
   "cell_type": "markdown",
   "id": "67eb72ec",
   "metadata": {},
   "source": [
    "- ASD : target encoding"
   ]
  },
  {
   "cell_type": "code",
   "execution_count": null,
   "id": "dd3c90ed",
   "metadata": {},
   "outputs": [],
   "source": [
    "mean_df = train_.groupby('ASD')['nerdiness'].agg('mean')\n",
    "final_train['ASD_t'] = train['ASD'].map(mean_df)\n",
    "final_test['ASD_t'] = test['ASD'].map(mean_df)"
   ]
  },
  {
   "cell_type": "code",
   "execution_count": null,
   "id": "8f2b4a82",
   "metadata": {},
   "outputs": [],
   "source": [
    "# save feature\n",
    "final_train.to_csv('final_train.csv',index=False)\n",
    "final_test.to_csv('final_test.csv',index=False)"
   ]
  },
  {
   "cell_type": "markdown",
   "id": "8b89d244",
   "metadata": {},
   "source": [
    "## Version 2 / Modeling"
   ]
  },
  {
   "cell_type": "code",
   "execution_count": null,
   "id": "618a6150",
   "metadata": {},
   "outputs": [],
   "source": [
    "import pandas as pd\n",
    "import numpy as np\n",
    "\n",
    "from sklearn.model_selection import cross_val_score, train_test_split\n",
    "from sklearn.metrics import roc_auc_score\n",
    "from sklearn.model_selection import cross_val_score\n",
    "\n",
    "from lightgbm import LGBMClassifier                     \n",
    "from sklearn.ensemble import AdaBoostClassifier              \n",
    "from sklearn.ensemble import RandomForestClassifier\n",
    "from sklearn.ensemble import VotingClassifier\n",
    "from sklearn.ensemble import ExtraTreesClassifier\n",
    "from sklearn.neural_network import MLPClassifier\n",
    "\n",
    "import matplotlib.pyplot as plt\n",
    "import seaborn as sns"
   ]
  },
  {
   "cell_type": "code",
   "execution_count": null,
   "id": "34772809",
   "metadata": {},
   "outputs": [],
   "source": [
    "train = pd.read_csv('final_train.csv')\n",
    "test = pd.read_csv('final_test.csv')\n",
    "target = pd.read_csv('train.csv').nerdiness"
   ]
  },
  {
   "cell_type": "code",
   "execution_count": 3,
   "id": "6fd96c1e",
   "metadata": {},
   "outputs": [
    {
     "data": {
      "text/plain": [
       "((15000, 125), (35452, 125))"
      ]
     },
     "execution_count": 3,
     "metadata": {},
     "output_type": "execute_result"
    }
   ],
   "source": [
    "train.shape, test.shape"
   ]
  },
  {
   "cell_type": "markdown",
   "id": "ba9641b2",
   "metadata": {},
   "source": [
    "target데이터 값의 비율을 일치시키기 위한 Oversampling 사용 \\( Borderline SMOTE \\)"
   ]
  },
  {
   "cell_type": "code",
   "execution_count": null,
   "id": "f622ead1",
   "metadata": {},
   "outputs": [],
   "source": [
    "from imblearn.over_sampling import BorderlineSMOTE\n",
    "\n",
    "bsmote = BorderlineSMOTE(random_state=2020, k_neighbors=5, m_neighbors=10)\n",
    "X_bsmote, y_bsmote = bsmote.fit_resample(train,target)"
   ]
  },
  {
   "cell_type": "code",
   "execution_count": 13,
   "id": "7167b882",
   "metadata": {},
   "outputs": [
    {
     "data": {
      "text/plain": [
       "(1    8303\n",
       " 0    6697\n",
       " Name: nerdiness, dtype: int64,\n",
       " 1    8303\n",
       " 0    8303\n",
       " Name: nerdiness, dtype: int64)"
      ]
     },
     "execution_count": 13,
     "metadata": {},
     "output_type": "execute_result"
    }
   ],
   "source": [
    "# smote 전과 후 비교\n",
    "target.value_counts(), y_bsmote.value_counts()"
   ]
  },
  {
   "cell_type": "code",
   "execution_count": 12,
   "id": "38a43c74",
   "metadata": {},
   "outputs": [
    {
     "data": {
      "text/plain": [
       "((16606, 125), (16606,))"
      ]
     },
     "execution_count": 12,
     "metadata": {},
     "output_type": "execute_result"
    }
   ],
   "source": [
    "X_bsmote.shape, y_bsmote.shape"
   ]
  },
  {
   "cell_type": "markdown",
   "id": "1a65a97c",
   "metadata": {},
   "source": [
    "### Feature Selection"
   ]
  },
  {
   "cell_type": "code",
   "execution_count": 32,
   "id": "2321160e",
   "metadata": {},
   "outputs": [
    {
     "data": {
      "application/vnd.jupyter.widget-view+json": {
       "model_id": "d716fb34bf1f45818d80fa610f64a26f",
       "version_major": 2,
       "version_minor": 0
      },
      "text/plain": [
       "  0%|          | 0/95 [00:00<?, ?it/s]"
      ]
     },
     "metadata": {},
     "output_type": "display_data"
    },
    {
     "name": "stdout",
     "output_type": "stream",
     "text": [
      "(92, 0.894400365062397)\n"
     ]
    },
    {
     "data": {
      "image/png": "[encoded data removed]",
      "text/plain": [
       "<Figure size 432x288 with 1 Axes>"
      ]
     },
     "metadata": {
      "needs_background": "light"
     },
     "output_type": "display_data"
    },
    {
     "name": "stdout",
     "output_type": "stream",
     "text": [
      "(16606, 115)\n",
      "['col_0', 'col_4', 'col_7', 'Q1', 'Q2', 'Q3', 'Q4', 'Q5', 'Q6', 'Q7', 'Q8', 'Q9', 'Q10', 'Q11', 'Q12', 'Q13', 'Q14', 'Q15', 'Q16', 'Q17', 'Q18', 'Q19', 'Q20', 'Q21', 'Q22', 'Q23', 'Q24', 'Q25', 'Q26', 'surveyelapse', 'TIPI1', 'TIPI2', 'TIPI3', 'TIPI4', 'TIPI5', 'TIPI6', 'TIPI7', 'TIPI8', 'TIPI9', 'TIPI10', 'VCL1', 'VCL2', 'VCL3', 'VCL4', 'VCL5', 'VCL6', 'VCL7', 'VCL8', 'VCL9', 'VCL10', 'VCL11', 'VCL12', 'VCL13', 'VCL14', 'VCL15', 'VCL16', 'education', 'gender', 'engnat', 'age', 'hand', 'religion', 'orientation', 'married', 'familysize', 'ASD', 'Q1_t', 'Q2_t', 'Q3_t', 'Q4_t', 'Q5_t', 'Q6_t', 'Q7_t', 'Q8_t', 'Q9_t', 'Q10_t', 'Q11_t', 'Q12_t', 'Q13_t', 'Q14_t', 'Q15_t', 'Q16_t', 'Q17_t', 'Q18_t', 'Q19_t', 'Q20_t', 'Q21_t', 'Q22_t', 'Q23_t', 'Q24_t', 'Q25_t', 'Q26_t', 'introelapse_t', 'testelapse_t', 'TIPI1_t', 'TIPI2_t', 'TIPI3_t', 'TIPI4_t', 'TIPI5_t', 'TIPI6_t', 'TIPI7_t', 'TIPI8_t', 'TIPI9_t', 'TIPI10_t', 'education_t', 'urban_t', 'gender_t', 'engnat_t', 'hand_t', 'religion_t', 'orientation_t', 'voted_t', 'married_t', 'familysize_t', 'ASD_t']\n"
     ]
    }
   ],
   "source": [
    "from tqdm.notebook import tqdm\n",
    "from sklearn.feature_selection import SelectPercentile\n",
    "\n",
    "model = ExtraTreesClassifier(random_state=2020)\n",
    "\n",
    "cv_scores = []\n",
    "for p in tqdm(range(5,100,1)):\n",
    "    X_new = SelectPercentile(percentile=p).fit_transform(X_bsmote, y_bsmote)    \n",
    "    cv_score = cross_val_score(model, X_new, y_bsmote, scoring='roc_auc', cv=5).mean()\n",
    "    cv_scores.append((p,cv_score))\n",
    "\n",
    "best_score = cv_scores[np.argmax([score for _, score in cv_scores])]\n",
    "print(best_score)\n",
    "\n",
    "plt.plot([k for k, _ in cv_scores], [score for _, score in cv_scores])\n",
    "plt.xlabel('Percent of features')\n",
    "plt.grid()\n",
    "plt.show()\n",
    "\n",
    "# 전체 값의 p%를 설명할 수 있도록\n",
    "fs = SelectPercentile(percentile=best_score[0]).fit(X_bsmote, y_bsmote) \n",
    "X_train_et = fs.transform(X_bsmote)\n",
    "X_test_et = fs.transform(test)\n",
    "\n",
    "feature_name_et = X_bsmote.columns[fs.get_support()].tolist()\n",
    "\n",
    "print(X_train_et.shape)\n",
    "print(feature_name_et)"
   ]
  },
  {
   "cell_type": "code",
   "execution_count": 37,
   "id": "23393a26",
   "metadata": {},
   "outputs": [
    {
     "data": {
      "text/plain": [
       "((16606, 115), (35452, 115))"
      ]
     },
     "execution_count": 37,
     "metadata": {},
     "output_type": "execute_result"
    }
   ],
   "source": [
    "# 125개의 열 중에 115개가 선택됨\n",
    "X_train_et.shape, X_test_et.shape"
   ]
  },
  {
   "cell_type": "markdown",
   "id": "7a3dbf35",
   "metadata": {},
   "source": [
    "### 깡통모델 결과 보기"
   ]
  },
  {
   "cell_type": "code",
   "execution_count": 35,
   "id": "126c653f",
   "metadata": {},
   "outputs": [
    {
     "name": "stdout",
     "output_type": "stream",
     "text": [
      "et모델 :  [0.87634253 0.87824912 0.88595457 0.91082283]\n",
      "8.41700005531311 초 걸렸습니다.\n",
      "rf모델 :  [0.86575323 0.86337005 0.87423428 0.91508914]\n",
      "9.823001623153687 초 걸렸습니다.\n",
      "lgbm모델 :  [0.82294579 0.82224784 0.82920398 0.83475938]\n",
      "1.6189994812011719 초 걸렸습니다.\n",
      "ada모델 :  [0.79287137 0.78613413 0.79588644 0.77275576]\n",
      "8.02983021736145 초 걸렸습니다.\n",
      "MLP모델 :  [0.75959052 0.56243016 0.76007208 0.56007324]\n",
      "5.031999111175537 초 걸렸습니다.\n"
     ]
    }
   ],
   "source": [
    "import time\n",
    "from sklearn.model_selection import cross_val_score\n",
    "\n",
    "start_time = time.time()\n",
    "\n",
    "print('et모델 : ', cross_val_score(ExtraTreesClassifier(random_state=2020) , X_train_et , y_bsmote ,cv=4,scoring='roc_auc'))\n",
    "print(time.time() - start_time, '초 걸렸습니다.')\n",
    "start_time1 = time.time()\n",
    "\n",
    "print('rf모델 : ', cross_val_score(RandomForestClassifier(random_state=2020) , X_train_et , y_bsmote ,cv=4,scoring='roc_auc'))\n",
    "print(time.time() - start_time1, '초 걸렸습니다.')\n",
    "start_time2 = time.time()\n",
    "\n",
    "print('lgbm모델 : ', cross_val_score(LGBMClassifier(random_state=2020) , X_train_et , y_bsmote ,cv=4,scoring='roc_auc'))\n",
    "print(time.time() - start_time2, '초 걸렸습니다.')\n",
    "start_time3 = time.time()\n",
    "\n",
    "print('ada모델 : ', cross_val_score(AdaBoostClassifier(random_state=2020) , X_train_et , y_bsmote ,cv=4,scoring='roc_auc'))\n",
    "print(time.time() - start_time3, '초 걸렸습니다.')\n",
    "start_time4 = time.time()\n",
    "\n",
    "print('MLP모델 : ', cross_val_score(MLPClassifier(random_state=2020) , X_train_et , y_bsmote ,cv=4,scoring='roc_auc'))\n",
    "print(time.time() - start_time4, '초 걸렸습니다.')"
   ]
  },
  {
   "cell_type": "markdown",
   "id": "be8487eb",
   "metadata": {},
   "source": [
    "깡통 모델의 성능을 확인한 후, 성능이 좋은 et, rf, lgbm 모델을 사용하여 튜닝을 진행하였습니다."
   ]
  },
  {
   "cell_type": "markdown",
   "id": "1ad9a309",
   "metadata": {},
   "source": [
    "### Model Tuning"
   ]
  },
  {
   "cell_type": "code",
   "execution_count": 40,
   "id": "149a8ac7",
   "metadata": {},
   "outputs": [
    {
     "data": {
      "text/plain": [
       "((11624, 115), (4982, 115), (11624,), (4982,))"
      ]
     },
     "execution_count": 40,
     "metadata": {},
     "output_type": "execute_result"
    }
   ],
   "source": [
    "X_train, X_test, y_train, y_test = train_test_split(X_train_et, y_bsmote, test_size=0.3, random_state=2020)\n",
    "X_train.shape, X_test.shape, y_train.shape, y_test.shape"
   ]
  },
  {
   "cell_type": "code",
   "execution_count": 42,
   "id": "eecf23fb",
   "metadata": {},
   "outputs": [
    {
     "data": {
      "text/plain": [
       "((16606, 115), (16606,))"
      ]
     },
     "execution_count": 42,
     "metadata": {},
     "output_type": "execute_result"
    }
   ],
   "source": [
    "X_train_et.shape, y_bsmote.shape"
   ]
  },
  {
   "cell_type": "code",
   "execution_count": 43,
   "id": "421167f9",
   "metadata": {},
   "outputs": [],
   "source": [
    "# 튜닝한 모델 담기\n",
    "clfs_tuned = []"
   ]
  },
  {
   "cell_type": "markdown",
   "id": "f30e7b4f",
   "metadata": {},
   "source": [
    "#### ▶ ExtraTree"
   ]
  },
  {
   "cell_type": "code",
   "execution_count": 44,
   "id": "f313c113",
   "metadata": {},
   "outputs": [],
   "source": [
    "import optuna\n",
    "import sklearn.model_selection as model_selection"
   ]
  },
  {
   "cell_type": "code",
   "execution_count": 45,
   "id": "febeac6a",
   "metadata": {},
   "outputs": [
    {
     "name": "stderr",
     "output_type": "stream",
     "text": [
      "\u001b[32m[I 2022-08-20 22:17:21,124]\u001b[0m A new study created in memory with name: no-name-d5782efe-c7c4-4a3d-9767-f4bcf2ee8c60\u001b[0m\n",
      "\u001b[32m[I 2022-08-20 22:17:28,466]\u001b[0m Trial 0 finished with value: 0.8854944719711035 and parameters: {'n_estimators': 85, 'min_samples_split': 3, 'max_depth': 424}. Best is trial 0 with value: 0.8854944719711035.\u001b[0m\n",
      "\u001b[32m[I 2022-08-20 22:18:05,975]\u001b[0m Trial 1 finished with value: 0.8895271529752274 and parameters: {'n_estimators': 1294, 'min_samples_split': 4, 'max_depth': 217}. Best is trial 1 with value: 0.8895271529752274.\u001b[0m\n",
      "\u001b[32m[I 2022-08-20 22:18:15,366]\u001b[0m Trial 2 finished with value: 0.8882375473331283 and parameters: {'n_estimators': 223, 'min_samples_split': 3, 'max_depth': 677}. Best is trial 1 with value: 0.8895271529752274.\u001b[0m\n",
      "\u001b[32m[I 2022-08-20 22:18:41,962]\u001b[0m Trial 3 finished with value: 0.8831683634618666 and parameters: {'n_estimators': 1149, 'min_samples_split': 8, 'max_depth': 846}. Best is trial 1 with value: 0.8895271529752274.\u001b[0m\n",
      "\u001b[32m[I 2022-08-20 22:19:16,278]\u001b[0m Trial 4 finished with value: 0.8895930491263505 and parameters: {'n_estimators': 1368, 'min_samples_split': 4, 'max_depth': 250}. Best is trial 4 with value: 0.8895930491263505.\u001b[0m\n",
      "\u001b[32m[I 2022-08-20 22:19:23,660]\u001b[0m Trial 5 finished with value: 0.8824677198441488 and parameters: {'n_estimators': 285, 'min_samples_split': 8, 'max_depth': 835}. Best is trial 4 with value: 0.8895930491263505.\u001b[0m\n",
      "\u001b[32m[I 2022-08-20 22:19:48,730]\u001b[0m Trial 6 finished with value: 0.878874719925063 and parameters: {'n_estimators': 1086, 'min_samples_split': 10, 'max_depth': 480}. Best is trial 4 with value: 0.8895930491263505.\u001b[0m\n",
      "\u001b[32m[I 2022-08-20 22:20:06,958]\u001b[0m Trial 7 finished with value: 0.8787638654510007 and parameters: {'n_estimators': 786, 'min_samples_split': 10, 'max_depth': 439}. Best is trial 4 with value: 0.8895930491263505.\u001b[0m\n",
      "\u001b[32m[I 2022-08-20 22:20:15,883]\u001b[0m Trial 8 finished with value: 0.882271942736028 and parameters: {'n_estimators': 364, 'min_samples_split': 8, 'max_depth': 128}. Best is trial 4 with value: 0.8895930491263505.\u001b[0m\n",
      "\u001b[32m[I 2022-08-20 22:20:42,327]\u001b[0m Trial 9 finished with value: 0.8809143089588017 and parameters: {'n_estimators': 1133, 'min_samples_split': 9, 'max_depth': 602}. Best is trial 4 with value: 0.8895930491263505.\u001b[0m\n",
      "\u001b[32m[I 2022-08-20 22:21:16,723]\u001b[0m Trial 10 finished with value: 0.8879570795237259 and parameters: {'n_estimators': 1455, 'min_samples_split': 5, 'max_depth': 21}. Best is trial 4 with value: 0.8895930491263505.\u001b[0m\n",
      "\u001b[32m[I 2022-08-20 22:21:51,301]\u001b[0m Trial 11 finished with value: 0.8882755644320965 and parameters: {'n_estimators': 1433, 'min_samples_split': 5, 'max_depth': 243}. Best is trial 4 with value: 0.8895930491263505.\u001b[0m\n",
      "\u001b[32m[I 2022-08-20 22:22:13,329]\u001b[0m Trial 12 finished with value: 0.8906187275553705 and parameters: {'n_estimators': 836, 'min_samples_split': 2, 'max_depth': 293}. Best is trial 12 with value: 0.8906187275553705.\u001b[0m\n",
      "\u001b[32m[I 2022-08-20 22:22:33,020]\u001b[0m Trial 13 finished with value: 0.8904055975760213 and parameters: {'n_estimators': 761, 'min_samples_split': 2, 'max_depth': 296}. Best is trial 12 with value: 0.8906187275553705.\u001b[0m\n",
      "\u001b[32m[I 2022-08-20 22:22:49,162]\u001b[0m Trial 14 finished with value: 0.8906179236671143 and parameters: {'n_estimators': 641, 'min_samples_split': 2, 'max_depth': 342}. Best is trial 12 with value: 0.8906187275553705.\u001b[0m\n",
      "\u001b[32m[I 2022-08-20 22:23:06,722]\u001b[0m Trial 15 finished with value: 0.8907308838330367 and parameters: {'n_estimators': 679, 'min_samples_split': 2, 'max_depth': 367}. Best is trial 15 with value: 0.8907308838330367.\u001b[0m\n",
      "\u001b[32m[I 2022-08-20 22:23:20,867]\u001b[0m Trial 16 finished with value: 0.8868480527045421 and parameters: {'n_estimators': 602, 'min_samples_split': 6, 'max_depth': 600}. Best is trial 15 with value: 0.8907308838330367.\u001b[0m\n",
      "\u001b[32m[I 2022-08-20 22:23:42,438]\u001b[0m Trial 17 finished with value: 0.8905538017674851 and parameters: {'n_estimators': 875, 'min_samples_split': 2, 'max_depth': 991}. Best is trial 15 with value: 0.8907308838330367.\u001b[0m\n",
      "\u001b[32m[I 2022-08-20 22:23:54,393]\u001b[0m Trial 18 finished with value: 0.8897335624672054 and parameters: {'n_estimators': 502, 'min_samples_split': 3, 'max_depth': 125}. Best is trial 15 with value: 0.8907308838330367.\u001b[0m\n",
      "\u001b[32m[I 2022-08-20 22:24:17,524]\u001b[0m Trial 19 finished with value: 0.8867120395276854 and parameters: {'n_estimators': 1003, 'min_samples_split': 6, 'max_depth': 342}. Best is trial 15 with value: 0.8907308838330367.\u001b[0m\n",
      "\u001b[32m[I 2022-08-20 22:24:38,749]\u001b[0m Trial 20 finished with value: 0.8892021122094044 and parameters: {'n_estimators': 912, 'min_samples_split': 4, 'max_depth': 580}. Best is trial 15 with value: 0.8907308838330367.\u001b[0m\n",
      "\u001b[32m[I 2022-08-20 22:24:54,319]\u001b[0m Trial 21 finished with value: 0.8906863308368403 and parameters: {'n_estimators': 655, 'min_samples_split': 2, 'max_depth': 428}. Best is trial 15 with value: 0.8907308838330367.\u001b[0m\n",
      "\u001b[32m[I 2022-08-20 22:25:06,394]\u001b[0m Trial 22 finished with value: 0.8908727563561518 and parameters: {'n_estimators': 511, 'min_samples_split': 2, 'max_depth': 405}. Best is trial 22 with value: 0.8908727563561518.\u001b[0m\n",
      "\u001b[32m[I 2022-08-20 22:25:17,418]\u001b[0m Trial 23 finished with value: 0.8902417565894349 and parameters: {'n_estimators': 471, 'min_samples_split': 3, 'max_depth': 407}. Best is trial 22 with value: 0.8908727563561518.\u001b[0m\n",
      "\u001b[32m[I 2022-08-20 22:25:32,943]\u001b[0m Trial 24 finished with value: 0.8901756070217364 and parameters: {'n_estimators': 657, 'min_samples_split': 2, 'max_depth': 531}. Best is trial 22 with value: 0.8908727563561518.\u001b[0m\n",
      "\u001b[32m[I 2022-08-20 22:25:44,691]\u001b[0m Trial 25 finished with value: 0.8901196112957068 and parameters: {'n_estimators': 492, 'min_samples_split': 3, 'max_depth': 705}. Best is trial 22 with value: 0.8908727563561518.\u001b[0m\n",
      "\u001b[32m[I 2022-08-20 22:26:00,547]\u001b[0m Trial 26 finished with value: 0.8879874173596387 and parameters: {'n_estimators': 685, 'min_samples_split': 5, 'max_depth': 374}. Best is trial 22 with value: 0.8908727563561518.\u001b[0m\n",
      "\u001b[32m[I 2022-08-20 22:26:09,667]\u001b[0m Trial 27 finished with value: 0.8886749306860239 and parameters: {'n_estimators': 381, 'min_samples_split': 4, 'max_depth': 517}. Best is trial 22 with value: 0.8908727563561518.\u001b[0m\n",
      "\u001b[32m[I 2022-08-20 22:26:23,752]\u001b[0m Trial 28 finished with value: 0.8905222250418136 and parameters: {'n_estimators': 572, 'min_samples_split': 2, 'max_depth': 150}. Best is trial 22 with value: 0.8908727563561518.\u001b[0m\n",
      "\u001b[32m[I 2022-08-20 22:26:25,417]\u001b[0m Trial 29 finished with value: 0.8842874553640179 and parameters: {'n_estimators': 60, 'min_samples_split': 3, 'max_depth': 453}. Best is trial 22 with value: 0.8908727563561518.\u001b[0m\n",
      "\u001b[32m[I 2022-08-20 22:26:29,288]\u001b[0m Trial 30 finished with value: 0.8831830445004986 and parameters: {'n_estimators': 169, 'min_samples_split': 7, 'max_depth': 403}. Best is trial 22 with value: 0.8908727563561518.\u001b[0m\n",
      "\u001b[32m[I 2022-08-20 22:26:47,618]\u001b[0m Trial 31 finished with value: 0.8906638834258258 and parameters: {'n_estimators': 784, 'min_samples_split': 2, 'max_depth': 320}. Best is trial 22 with value: 0.8908727563561518.\u001b[0m\n",
      "\u001b[32m[I 2022-08-20 22:27:05,381]\u001b[0m Trial 32 finished with value: 0.8903009524230774 and parameters: {'n_estimators': 754, 'min_samples_split': 3, 'max_depth': 190}. Best is trial 22 with value: 0.8908727563561518.\u001b[0m\n",
      "\u001b[32m[I 2022-08-20 22:27:28,632]\u001b[0m Trial 33 finished with value: 0.8908341260114354 and parameters: {'n_estimators': 976, 'min_samples_split': 2, 'max_depth': 307}. Best is trial 22 with value: 0.8908727563561518.\u001b[0m\n",
      "\u001b[32m[I 2022-08-20 22:27:51,178]\u001b[0m Trial 34 finished with value: 0.8894681539622578 and parameters: {'n_estimators': 986, 'min_samples_split': 4, 'max_depth': 382}. Best is trial 22 with value: 0.8908727563561518.\u001b[0m\n",
      "\u001b[32m[I 2022-08-20 22:28:21,717]\u001b[0m Trial 35 finished with value: 0.8905998819305198 and parameters: {'n_estimators': 1254, 'min_samples_split': 3, 'max_depth': 499}. Best is trial 22 with value: 0.8908727563561518.\u001b[0m\n",
      "\u001b[32m[I 2022-08-20 22:28:30,553]\u001b[0m Trial 36 finished with value: 0.8897208541780697 and parameters: {'n_estimators': 357, 'min_samples_split': 2, 'max_depth': 244}. Best is trial 22 with value: 0.8908727563561518.\u001b[0m\n"
     ]
    },
    {
     "name": "stderr",
     "output_type": "stream",
     "text": [
      "\u001b[32m[I 2022-08-20 22:28:52,618]\u001b[0m Trial 37 finished with value: 0.8894563688894149 and parameters: {'n_estimators': 944, 'min_samples_split': 4, 'max_depth': 699}. Best is trial 22 with value: 0.8908727563561518.\u001b[0m\n",
      "\u001b[32m[I 2022-08-20 22:29:06,180]\u001b[0m Trial 38 finished with value: 0.8905592016511813 and parameters: {'n_estimators': 558, 'min_samples_split': 2, 'max_depth': 50}. Best is trial 22 with value: 0.8908727563561518.\u001b[0m\n",
      "\u001b[32m[I 2022-08-20 22:29:22,560]\u001b[0m Trial 39 finished with value: 0.8906934028366241 and parameters: {'n_estimators': 700, 'min_samples_split': 3, 'max_depth': 456}. Best is trial 22 with value: 0.8908727563561518.\u001b[0m\n",
      "\u001b[32m[I 2022-08-20 22:29:47,070]\u001b[0m Trial 40 finished with value: 0.8903818884635628 and parameters: {'n_estimators': 1070, 'min_samples_split': 3, 'max_depth': 651}. Best is trial 22 with value: 0.8908727563561518.\u001b[0m\n",
      "\u001b[32m[I 2022-08-20 22:30:04,230]\u001b[0m Trial 41 finished with value: 0.8904826077702281 and parameters: {'n_estimators': 733, 'min_samples_split': 3, 'max_depth': 451}. Best is trial 22 with value: 0.8908727563561518.\u001b[0m\n",
      "\u001b[32m[I 2022-08-20 22:30:14,385]\u001b[0m Trial 42 finished with value: 0.8897382562090388 and parameters: {'n_estimators': 418, 'min_samples_split': 2, 'max_depth': 552}. Best is trial 22 with value: 0.8908727563561518.\u001b[0m\n",
      "\u001b[32m[I 2022-08-20 22:30:31,426]\u001b[0m Trial 43 finished with value: 0.890504287467399 and parameters: {'n_estimators': 694, 'min_samples_split': 2, 'max_depth': 466}. Best is trial 22 with value: 0.8908727563561518.\u001b[0m\n",
      "\u001b[32m[I 2022-08-20 22:30:51,466]\u001b[0m Trial 44 finished with value: 0.8904231268184771 and parameters: {'n_estimators': 848, 'min_samples_split': 3, 'max_depth': 364}. Best is trial 22 with value: 0.8908727563561518.\u001b[0m\n",
      "\u001b[32m[I 2022-08-20 22:30:58,486]\u001b[0m Trial 45 finished with value: 0.8886372035274871 and parameters: {'n_estimators': 300, 'min_samples_split': 4, 'max_depth': 280}. Best is trial 22 with value: 0.8908727563561518.\u001b[0m\n",
      "\u001b[32m[I 2022-08-20 22:31:27,031]\u001b[0m Trial 46 finished with value: 0.8909205323834681 and parameters: {'n_estimators': 1210, 'min_samples_split': 2, 'max_depth': 211}. Best is trial 46 with value: 0.8909205323834681.\u001b[0m\n",
      "\u001b[32m[I 2022-08-20 22:31:56,086]\u001b[0m Trial 47 finished with value: 0.8911784264369897 and parameters: {'n_estimators': 1235, 'min_samples_split': 2, 'max_depth': 192}. Best is trial 47 with value: 0.8911784264369897.\u001b[0m\n",
      "\u001b[32m[I 2022-08-20 22:32:26,326]\u001b[0m Trial 48 finished with value: 0.8909098217941095 and parameters: {'n_estimators': 1239, 'min_samples_split': 2, 'max_depth': 190}. Best is trial 47 with value: 0.8911784264369897.\u001b[0m\n",
      "\u001b[32m[I 2022-08-20 22:32:53,897]\u001b[0m Trial 49 finished with value: 0.8807430059932557 and parameters: {'n_estimators': 1265, 'min_samples_split': 9, 'max_depth': 194}. Best is trial 47 with value: 0.8911784264369897.\u001b[0m\n"
     ]
    },
    {
     "name": "stdout",
     "output_type": "stream",
     "text": [
      "FrozenTrial(number=47, values=[0.8911784264369897], datetime_start=datetime.datetime(2022, 8, 20, 22, 31, 27, 32511), datetime_complete=datetime.datetime(2022, 8, 20, 22, 31, 56, 86637), params={'n_estimators': 1235, 'min_samples_split': 2, 'max_depth': 192}, distributions={'n_estimators': IntUniformDistribution(high=1500, low=30, step=1), 'min_samples_split': IntUniformDistribution(high=10, low=2, step=1), 'max_depth': IntUniformDistribution(high=1000, low=20, step=1)}, user_attrs={}, system_attrs={}, intermediate_values={}, trial_id=47, state=TrialState.COMPLETE, value=None)\n"
     ]
    }
   ],
   "source": [
    "def objective(trial):\n",
    "    et_n_estimators = trial.suggest_int(\"n_estimators\", 30, 1500)\n",
    "    et_min_samples_split = trial.suggest_int(\"min_samples_split\", 2, 10)\n",
    "    et_max_depth = trial.suggest_int(\"max_depth\", 20, 1000)\n",
    "    \n",
    "    classifier_obj = ExtraTreesClassifier(n_estimators=et_n_estimators,\n",
    "                                          min_samples_split=et_min_samples_split,\n",
    "                                          max_depth= et_max_depth)\n",
    "\n",
    "    score = model_selection.cross_val_score(classifier_obj, X_train_et, y_bsmote, scoring='roc_auc', cv=4, n_jobs=-1)\n",
    "    roc_auc = score.mean()\n",
    "    return roc_auc\n",
    "\n",
    "\n",
    "study = optuna.create_study(direction=\"maximize\")\n",
    "study.optimize(objective, n_trials=50)\n",
    "print(study.best_trial)"
   ]
  },
  {
   "cell_type": "code",
   "execution_count": 46,
   "id": "3059f1e5",
   "metadata": {},
   "outputs": [
    {
     "data": {
      "text/plain": [
       "ExtraTreesClassifier(max_depth=192, n_estimators=1235, random_state=2020)"
      ]
     },
     "execution_count": 46,
     "metadata": {},
     "output_type": "execute_result"
    }
   ],
   "source": [
    "max_et = study.best_params\n",
    "et_tune = ExtraTreesClassifier(**max_et, random_state = 2020)\n",
    "et_tune.fit(X_train_et, y_bsmote)"
   ]
  },
  {
   "cell_type": "code",
   "execution_count": 47,
   "id": "33e1aa26",
   "metadata": {},
   "outputs": [
    {
     "name": "stdout",
     "output_type": "stream",
     "text": [
      "[0.8809814  0.87878105 0.89096571 0.91388978]\n"
     ]
    }
   ],
   "source": [
    "cv_et = cross_val_score(et_tune, X_train_et, y_bsmote, cv=4, scoring = 'roc_auc')\n",
    "print(cv_et)"
   ]
  },
  {
   "cell_type": "code",
   "execution_count": 48,
   "id": "3f1d7444",
   "metadata": {},
   "outputs": [],
   "source": [
    "clfs_tuned.append((type(et_tune).__name__, \n",
    "                   et_tune, \n",
    "                   np.mean(cv_et)))"
   ]
  },
  {
   "cell_type": "code",
   "execution_count": 49,
   "id": "199d2b38",
   "metadata": {},
   "outputs": [
    {
     "data": {
      "text/plain": [
       "('ExtraTreesClassifier',\n",
       " ExtraTreesClassifier(max_depth=192, n_estimators=1235, random_state=2020),\n",
       " 0.8911544869153293)"
      ]
     },
     "execution_count": 49,
     "metadata": {},
     "output_type": "execute_result"
    }
   ],
   "source": [
    "# mean score\n",
    "clfs_tuned[0]"
   ]
  },
  {
   "cell_type": "markdown",
   "id": "dd220b5a",
   "metadata": {
    "id": "dd220b5a"
   },
   "source": [
    "#### ▶ RandomForest"
   ]
  },
  {
   "cell_type": "code",
   "execution_count": 50,
   "id": "3d2958d9",
   "metadata": {},
   "outputs": [
    {
     "name": "stderr",
     "output_type": "stream",
     "text": [
      "\u001b[32m[I 2022-08-20 22:35:11,165]\u001b[0m A new study created in memory with name: no-name-503e1a08-28ac-4d28-a71d-d27568c1a150\u001b[0m\n",
      "\u001b[32m[I 2022-08-20 22:35:11,932]\u001b[0m Trial 0 finished with value: 0.756729730227111 and parameters: {'n_estimators': 112, 'max_depth': 5, 'max_leaf_nodes': 2, 'criterion': 'gini'}. Best is trial 0 with value: 0.756729730227111.\u001b[0m\n",
      "\u001b[32m[I 2022-08-20 22:35:12,530]\u001b[0m Trial 1 finished with value: 0.7748621144897901 and parameters: {'n_estimators': 94, 'max_depth': 3, 'max_leaf_nodes': 21, 'criterion': 'entropy'}. Best is trial 1 with value: 0.7748621144897901.\u001b[0m\n",
      "\u001b[32m[I 2022-08-20 22:35:13,296]\u001b[0m Trial 2 finished with value: 0.7894966488460441 and parameters: {'n_estimators': 97, 'max_depth': 47, 'max_leaf_nodes': 30, 'criterion': 'gini'}. Best is trial 2 with value: 0.7894966488460441.\u001b[0m\n",
      "\u001b[32m[I 2022-08-20 22:35:14,636]\u001b[0m Trial 3 finished with value: 0.8002045283945767 and parameters: {'n_estimators': 115, 'max_depth': 79, 'max_leaf_nodes': 78, 'criterion': 'entropy'}. Best is trial 3 with value: 0.8002045283945767.\u001b[0m\n",
      "\u001b[32m[I 2022-08-20 22:35:15,398]\u001b[0m Trial 4 finished with value: 0.7747399476423743 and parameters: {'n_estimators': 96, 'max_depth': 3, 'max_leaf_nodes': 33, 'criterion': 'gini'}. Best is trial 3 with value: 0.8002045283945767.\u001b[0m\n",
      "\u001b[32m[I 2022-08-20 22:35:16,185]\u001b[0m Trial 5 finished with value: 0.796000818570483 and parameters: {'n_estimators': 92, 'max_depth': 37, 'max_leaf_nodes': 55, 'criterion': 'gini'}. Best is trial 3 with value: 0.8002045283945767.\u001b[0m\n",
      "\u001b[32m[I 2022-08-20 22:35:17,073]\u001b[0m Trial 6 finished with value: 0.779140411339635 and parameters: {'n_estimators': 116, 'max_depth': 4, 'max_leaf_nodes': 10, 'criterion': 'entropy'}. Best is trial 3 with value: 0.8002045283945767.\u001b[0m\n",
      "\u001b[32m[I 2022-08-20 22:35:17,800]\u001b[0m Trial 7 finished with value: 0.7997904849179425 and parameters: {'n_estimators': 82, 'max_depth': 22, 'max_leaf_nodes': 74, 'criterion': 'gini'}. Best is trial 3 with value: 0.8002045283945767.\u001b[0m\n",
      "\u001b[32m[I 2022-08-20 22:35:18,522]\u001b[0m Trial 8 finished with value: 0.7976474553895133 and parameters: {'n_estimators': 81, 'max_depth': 10, 'max_leaf_nodes': 66, 'criterion': 'gini'}. Best is trial 3 with value: 0.8002045283945767.\u001b[0m\n",
      "\u001b[32m[I 2022-08-20 22:35:19,279]\u001b[0m Trial 9 finished with value: 0.7684468838494523 and parameters: {'n_estimators': 106, 'max_depth': 2, 'max_leaf_nodes': 76, 'criterion': 'entropy'}. Best is trial 3 with value: 0.8002045283945767.\u001b[0m\n",
      "\u001b[32m[I 2022-08-20 22:35:20,459]\u001b[0m Trial 10 finished with value: 0.8023124278161126 and parameters: {'n_estimators': 119, 'max_depth': 96, 'max_leaf_nodes': 92, 'criterion': 'entropy'}. Best is trial 10 with value: 0.8023124278161126.\u001b[0m\n",
      "\u001b[32m[I 2022-08-20 22:35:21,665]\u001b[0m Trial 11 finished with value: 0.8032326582662412 and parameters: {'n_estimators': 120, 'max_depth': 77, 'max_leaf_nodes': 98, 'criterion': 'entropy'}. Best is trial 11 with value: 0.8032326582662412.\u001b[0m\n",
      "\u001b[32m[I 2022-08-20 22:35:22,872]\u001b[0m Trial 12 finished with value: 0.8030639907631909 and parameters: {'n_estimators': 120, 'max_depth': 96, 'max_leaf_nodes': 97, 'criterion': 'entropy'}. Best is trial 11 with value: 0.8032326582662412.\u001b[0m\n",
      "\u001b[32m[I 2022-08-20 22:35:24,103]\u001b[0m Trial 13 finished with value: 0.8030957524564047 and parameters: {'n_estimators': 106, 'max_depth': 44, 'max_leaf_nodes': 98, 'criterion': 'entropy'}. Best is trial 11 with value: 0.8032326582662412.\u001b[0m\n",
      "\u001b[32m[I 2022-08-20 22:35:25,386]\u001b[0m Trial 14 finished with value: 0.803268543674738 and parameters: {'n_estimators': 106, 'max_depth': 21, 'max_leaf_nodes': 99, 'criterion': 'entropy'}. Best is trial 14 with value: 0.803268543674738.\u001b[0m\n",
      "\u001b[32m[I 2022-08-20 22:35:26,473]\u001b[0m Trial 15 finished with value: 0.8018873251870122 and parameters: {'n_estimators': 107, 'max_depth': 13, 'max_leaf_nodes': 89, 'criterion': 'entropy'}. Best is trial 14 with value: 0.803268543674738.\u001b[0m\n",
      "\u001b[32m[I 2022-08-20 22:35:27,700]\u001b[0m Trial 16 finished with value: 0.7949803043463461 and parameters: {'n_estimators': 111, 'max_depth': 19, 'max_leaf_nodes': 51, 'criterion': 'entropy'}. Best is trial 14 with value: 0.803268543674738.\u001b[0m\n",
      "\u001b[32m[I 2022-08-20 22:35:28,703]\u001b[0m Trial 17 finished with value: 0.8004677775610667 and parameters: {'n_estimators': 102, 'max_depth': 8, 'max_leaf_nodes': 84, 'criterion': 'entropy'}. Best is trial 14 with value: 0.803268543674738.\u001b[0m\n",
      "\u001b[32m[I 2022-08-20 22:35:29,735]\u001b[0m Trial 18 finished with value: 0.7969918221618473 and parameters: {'n_estimators': 90, 'max_depth': 26, 'max_leaf_nodes': 61, 'criterion': 'entropy'}. Best is trial 14 with value: 0.803268543674738.\u001b[0m\n",
      "\u001b[32m[I 2022-08-20 22:35:30,856]\u001b[0m Trial 19 finished with value: 0.8012219966157746 and parameters: {'n_estimators': 87, 'max_depth': 31, 'max_leaf_nodes': 85, 'criterion': 'entropy'}. Best is trial 14 with value: 0.803268543674738.\u001b[0m\n",
      "\u001b[32m[I 2022-08-20 22:35:32,038]\u001b[0m Trial 20 finished with value: 0.792844434514093 and parameters: {'n_estimators': 101, 'max_depth': 59, 'max_leaf_nodes': 41, 'criterion': 'entropy'}. Best is trial 14 with value: 0.803268543674738.\u001b[0m\n",
      "\u001b[32m[I 2022-08-20 22:35:33,236]\u001b[0m Trial 21 finished with value: 0.8024141144248885 and parameters: {'n_estimators': 106, 'max_depth': 65, 'max_leaf_nodes': 93, 'criterion': 'entropy'}. Best is trial 14 with value: 0.803268543674738.\u001b[0m\n",
      "\u001b[32m[I 2022-08-20 22:35:34,576]\u001b[0m Trial 22 finished with value: 0.8033305084024606 and parameters: {'n_estimators': 110, 'max_depth': 47, 'max_leaf_nodes': 99, 'criterion': 'entropy'}. Best is trial 22 with value: 0.8033305084024606.\u001b[0m\n",
      "\u001b[32m[I 2022-08-20 22:35:35,820]\u001b[0m Trial 23 finished with value: 0.8033711823359013 and parameters: {'n_estimators': 111, 'max_depth': 17, 'max_leaf_nodes': 100, 'criterion': 'entropy'}. Best is trial 23 with value: 0.8033711823359013.\u001b[0m\n",
      "\u001b[32m[I 2022-08-20 22:35:36,896]\u001b[0m Trial 24 finished with value: 0.7987958714193426 and parameters: {'n_estimators': 110, 'max_depth': 13, 'max_leaf_nodes': 69, 'criterion': 'entropy'}. Best is trial 23 with value: 0.8033711823359013.\u001b[0m\n",
      "\u001b[32m[I 2022-08-20 22:35:38,044]\u001b[0m Trial 25 finished with value: 0.8033149529298769 and parameters: {'n_estimators': 114, 'max_depth': 18, 'max_leaf_nodes': 100, 'criterion': 'entropy'}. Best is trial 23 with value: 0.8033711823359013.\u001b[0m\n",
      "\u001b[32m[I 2022-08-20 22:35:39,209]\u001b[0m Trial 26 finished with value: 0.8012020902894995 and parameters: {'n_estimators': 115, 'max_depth': 16, 'max_leaf_nodes': 84, 'criterion': 'entropy'}. Best is trial 23 with value: 0.8033711823359013.\u001b[0m\n",
      "\u001b[32m[I 2022-08-20 22:35:40,377]\u001b[0m Trial 27 finished with value: 0.8010116842289805 and parameters: {'n_estimators': 110, 'max_depth': 8, 'max_leaf_nodes': 88, 'criterion': 'entropy'}. Best is trial 23 with value: 0.8033711823359013.\u001b[0m\n",
      "\u001b[32m[I 2022-08-20 22:35:41,769]\u001b[0m Trial 28 finished with value: 0.8034547123808811 and parameters: {'n_estimators': 117, 'max_depth': 29, 'max_leaf_nodes': 100, 'criterion': 'entropy'}. Best is trial 28 with value: 0.8034547123808811.\u001b[0m\n",
      "\u001b[32m[I 2022-08-20 22:35:42,782]\u001b[0m Trial 29 finished with value: 0.8031877917631299 and parameters: {'n_estimators': 117, 'max_depth': 35, 'max_leaf_nodes': 91, 'criterion': 'gini'}. Best is trial 28 with value: 0.8034547123808811.\u001b[0m\n",
      "\u001b[32m[I 2022-08-20 22:35:44,031]\u001b[0m Trial 30 finished with value: 0.800403713990581 and parameters: {'n_estimators': 112, 'max_depth': 27, 'max_leaf_nodes': 79, 'criterion': 'entropy'}. Best is trial 28 with value: 0.8034547123808811.\u001b[0m\n",
      "\u001b[32m[I 2022-08-20 22:35:45,205]\u001b[0m Trial 31 finished with value: 0.8032945922429178 and parameters: {'n_estimators': 114, 'max_depth': 16, 'max_leaf_nodes': 100, 'criterion': 'entropy'}. Best is trial 28 with value: 0.8034547123808811.\u001b[0m\n",
      "\u001b[32m[I 2022-08-20 22:35:46,560]\u001b[0m Trial 32 finished with value: 0.8021763860547606 and parameters: {'n_estimators': 113, 'max_depth': 45, 'max_leaf_nodes': 92, 'criterion': 'entropy'}. Best is trial 28 with value: 0.8034547123808811.\u001b[0m\n",
      "\u001b[32m[I 2022-08-20 22:35:47,556]\u001b[0m Trial 33 finished with value: 0.7987169579450482 and parameters: {'n_estimators': 109, 'max_depth': 7, 'max_leaf_nodes': 81, 'criterion': 'entropy'}. Best is trial 28 with value: 0.8034547123808811.\u001b[0m\n"
     ]
    },
    {
     "name": "stderr",
     "output_type": "stream",
     "text": [
      "\u001b[32m[I 2022-08-20 22:35:48,749]\u001b[0m Trial 34 finished with value: 0.8034992656146991 and parameters: {'n_estimators': 103, 'max_depth': 11, 'max_leaf_nodes': 100, 'criterion': 'entropy'}. Best is trial 34 with value: 0.8034992656146991.\u001b[0m\n",
      "\u001b[32m[I 2022-08-20 22:35:49,769]\u001b[0m Trial 35 finished with value: 0.8026064169303764 and parameters: {'n_estimators': 99, 'max_depth': 11, 'max_leaf_nodes': 94, 'criterion': 'entropy'}. Best is trial 34 with value: 0.8034992656146991.\u001b[0m\n",
      "\u001b[32m[I 2022-08-20 22:35:50,779]\u001b[0m Trial 36 finished with value: 0.7941356509938312 and parameters: {'n_estimators': 103, 'max_depth': 6, 'max_leaf_nodes': 71, 'criterion': 'gini'}. Best is trial 34 with value: 0.8034992656146991.\u001b[0m\n",
      "\u001b[32m[I 2022-08-20 22:35:51,472]\u001b[0m Trial 37 finished with value: 0.7737050848822804 and parameters: {'n_estimators': 104, 'max_depth': 26, 'max_leaf_nodes': 6, 'criterion': 'entropy'}. Best is trial 34 with value: 0.8034992656146991.\u001b[0m\n",
      "\u001b[32m[I 2022-08-20 22:35:52,545]\u001b[0m Trial 38 finished with value: 0.8022782870402613 and parameters: {'n_estimators': 99, 'max_depth': 54, 'max_leaf_nodes': 87, 'criterion': 'gini'}. Best is trial 34 with value: 0.8034992656146991.\u001b[0m\n",
      "\u001b[32m[I 2022-08-20 22:35:53,541]\u001b[0m Trial 39 finished with value: 0.7822981701494967 and parameters: {'n_estimators': 117, 'max_depth': 4, 'max_leaf_nodes': 44, 'criterion': 'entropy'}. Best is trial 34 with value: 0.8034992656146991.\u001b[0m\n",
      "\u001b[32m[I 2022-08-20 22:35:54,352]\u001b[0m Trial 40 finished with value: 0.7881845257085007 and parameters: {'n_estimators': 108, 'max_depth': 38, 'max_leaf_nodes': 26, 'criterion': 'gini'}. Best is trial 34 with value: 0.8034992656146991.\u001b[0m\n",
      "\u001b[32m[I 2022-08-20 22:35:55,503]\u001b[0m Trial 41 finished with value: 0.8027051456798939 and parameters: {'n_estimators': 113, 'max_depth': 15, 'max_leaf_nodes': 96, 'criterion': 'entropy'}. Best is trial 34 with value: 0.8034992656146991.\u001b[0m\n",
      "\u001b[32m[I 2022-08-20 22:35:56,680]\u001b[0m Trial 42 finished with value: 0.8036730408385522 and parameters: {'n_estimators': 118, 'max_depth': 10, 'max_leaf_nodes': 100, 'criterion': 'entropy'}. Best is trial 42 with value: 0.8036730408385522.\u001b[0m\n",
      "\u001b[32m[I 2022-08-20 22:35:57,826]\u001b[0m Trial 43 finished with value: 0.8020601520206478 and parameters: {'n_estimators': 117, 'max_depth': 10, 'max_leaf_nodes': 91, 'criterion': 'entropy'}. Best is trial 42 with value: 0.8036730408385522.\u001b[0m\n",
      "\u001b[32m[I 2022-08-20 22:35:58,713]\u001b[0m Trial 44 finished with value: 0.7830285616303297 and parameters: {'n_estimators': 118, 'max_depth': 10, 'max_leaf_nodes': 15, 'criterion': 'entropy'}. Best is trial 42 with value: 0.8036730408385522.\u001b[0m\n",
      "\u001b[32m[I 2022-08-20 22:35:59,451]\u001b[0m Trial 45 finished with value: 0.7874358051505028 and parameters: {'n_estimators': 95, 'max_depth': 5, 'max_leaf_nodes': 81, 'criterion': 'entropy'}. Best is trial 42 with value: 0.8036730408385522.\u001b[0m\n",
      "\u001b[32m[I 2022-08-20 22:36:00,825]\u001b[0m Trial 46 finished with value: 0.8028054571018881 and parameters: {'n_estimators': 115, 'max_depth': 22, 'max_leaf_nodes': 95, 'criterion': 'entropy'}. Best is trial 42 with value: 0.8036730408385522.\u001b[0m\n",
      "\u001b[32m[I 2022-08-20 22:36:02,118]\u001b[0m Trial 47 finished with value: 0.8035074032919856 and parameters: {'n_estimators': 120, 'max_depth': 32, 'max_leaf_nodes': 100, 'criterion': 'entropy'}. Best is trial 42 with value: 0.8036730408385522.\u001b[0m\n",
      "\u001b[32m[I 2022-08-20 22:36:02,954]\u001b[0m Trial 48 finished with value: 0.7684595361716839 and parameters: {'n_estimators': 118, 'max_depth': 2, 'max_leaf_nodes': 74, 'criterion': 'entropy'}. Best is trial 42 with value: 0.8036730408385522.\u001b[0m\n",
      "\u001b[32m[I 2022-08-20 22:36:04,155]\u001b[0m Trial 49 finished with value: 0.8028563506702587 and parameters: {'n_estimators': 116, 'max_depth': 12, 'max_leaf_nodes': 88, 'criterion': 'gini'}. Best is trial 42 with value: 0.8036730408385522.\u001b[0m\n"
     ]
    },
    {
     "name": "stdout",
     "output_type": "stream",
     "text": [
      "FrozenTrial(number=42, values=[0.8036730408385522], datetime_start=datetime.datetime(2022, 8, 20, 22, 35, 55, 504174), datetime_complete=datetime.datetime(2022, 8, 20, 22, 35, 56, 679172), params={'n_estimators': 118, 'max_depth': 10, 'max_leaf_nodes': 100, 'criterion': 'entropy'}, distributions={'n_estimators': IntUniformDistribution(high=120, low=80, step=1), 'max_depth': IntLogUniformDistribution(high=100, low=2, step=1), 'max_leaf_nodes': IntUniformDistribution(high=100, low=2, step=1), 'criterion': CategoricalDistribution(choices=('gini', 'entropy'))}, user_attrs={}, system_attrs={}, intermediate_values={}, trial_id=42, state=TrialState.COMPLETE, value=None)\n"
     ]
    }
   ],
   "source": [
    "def objective(trial): \n",
    "    rf_n_estimators = trial.suggest_int(\"n_estimators\", 80, 120) # n_estimator 늘려서 다시해보기\n",
    "    rf_max_depth = trial.suggest_int(\"max_depth\", 2, 100, log=True)\n",
    "    rf_max_leaf_nodes = trial.suggest_int(\"max_leaf_nodes\", 2, 100)\n",
    "    rf_criterion = trial.suggest_categorical(\"criterion\", [\"gini\", \"entropy\"])\n",
    "    \n",
    "    classifier_obj = RandomForestClassifier(n_estimators=rf_n_estimators, \n",
    "                                            max_depth=rf_max_depth,\n",
    "                                            max_leaf_nodes=rf_max_leaf_nodes,\n",
    "                                            criterion=rf_criterion,\n",
    "                                            n_jobs=-1, \n",
    "                                            random_state=2020)\n",
    "\n",
    "\n",
    "    score = model_selection.cross_val_score(classifier_obj, X_train_et, y_bsmote, scoring='roc_auc', cv=4, n_jobs=-1)\n",
    "    roc_auc = score.mean()\n",
    "    return roc_auc\n",
    "\n",
    "\n",
    "study = optuna.create_study(direction=\"maximize\")\n",
    "study.optimize(objective, n_trials=50)\n",
    "print(study.best_trial)"
   ]
  },
  {
   "cell_type": "code",
   "execution_count": 51,
   "id": "02cb9188",
   "metadata": {},
   "outputs": [
    {
     "data": {
      "text/plain": [
       "RandomForestClassifier(criterion='entropy', max_depth=10, max_leaf_nodes=100,\n",
       "                       n_estimators=118, n_jobs=-1)"
      ]
     },
     "execution_count": 51,
     "metadata": {},
     "output_type": "execute_result"
    }
   ],
   "source": [
    "max_rf = study.best_params\n",
    "rf_tune = RandomForestClassifier(**max_rf, n_jobs=-1)\n",
    "rf_tune.fit(X_train_et, y_bsmote)"
   ]
  },
  {
   "cell_type": "code",
   "execution_count": 52,
   "id": "c4686fff",
   "metadata": {},
   "outputs": [
    {
     "name": "stdout",
     "output_type": "stream",
     "text": [
      "[0.79815308 0.80121473 0.80809852 0.80559463]\n"
     ]
    }
   ],
   "source": [
    "rf_cv = cross_val_score(rf_tune, X_train_et, y_bsmote, cv=4, scoring = 'roc_auc')\n",
    "print(rf_cv)"
   ]
  },
  {
   "cell_type": "code",
   "execution_count": 53,
   "id": "fd0918f1",
   "metadata": {},
   "outputs": [],
   "source": [
    "clfs_tuned.append((type(rf_tune).__name__, \n",
    "                   rf_tune, \n",
    "                   np.mean(rf_cv)))"
   ]
  },
  {
   "cell_type": "code",
   "execution_count": 54,
   "id": "addf5c9b",
   "metadata": {},
   "outputs": [
    {
     "data": {
      "text/plain": [
       "('RandomForestClassifier',\n",
       " RandomForestClassifier(criterion='entropy', max_depth=10, max_leaf_nodes=100,\n",
       "                        n_estimators=118, n_jobs=-1),\n",
       " 0.8032652408726086)"
      ]
     },
     "execution_count": 54,
     "metadata": {},
     "output_type": "execute_result"
    }
   ],
   "source": [
    "# mean score\n",
    "clfs_tuned[1]"
   ]
  },
  {
   "cell_type": "markdown",
   "id": "d425bb75",
   "metadata": {
    "id": "d425bb75"
   },
   "source": [
    "#### ▶ LGBM\n",
    "[parameter]https://nurilee.com/2020/04/03/lightgbm-definition-parameter-tuning/"
   ]
  },
  {
   "cell_type": "code",
   "execution_count": 55,
   "id": "e0dd8c8f",
   "metadata": {},
   "outputs": [
    {
     "name": "stderr",
     "output_type": "stream",
     "text": [
      "\u001b[32m[I 2022-08-20 22:36:06,718]\u001b[0m A new study created in memory with name: no-name-188b8675-7493-470b-ad1c-a4a20c5e32f9\u001b[0m\n",
      "\u001b[32m[I 2022-08-20 22:36:19,208]\u001b[0m Trial 0 finished with value: 0.8639238014181533 and parameters: {'learning_rate': 0.056436016125232066, 'n_estimators': 1406, 'max_depth': 20, 'subsample': 0.9261291412339175, 'colsample_bytree': 0.8694890855546608, 'min_child_samples': 20, 'num_leaves': 26}. Best is trial 0 with value: 0.8639238014181533.\u001b[0m\n",
      "\u001b[32m[I 2022-08-20 22:36:26,663]\u001b[0m Trial 1 finished with value: 0.8458591688806303 and parameters: {'learning_rate': 0.05899051721843935, 'n_estimators': 1083, 'max_depth': 7, 'subsample': 0.811298042192648, 'colsample_bytree': 0.8765591244012088, 'min_child_samples': 29, 'num_leaves': 15}. Best is trial 0 with value: 0.8639238014181533.\u001b[0m\n",
      "\u001b[32m[I 2022-08-20 22:36:33,398]\u001b[0m Trial 2 finished with value: 0.8257485531185519 and parameters: {'learning_rate': 0.03270933527324621, 'n_estimators': 1307, 'max_depth': 15, 'subsample': 0.8909201956826304, 'colsample_bytree': 0.7754373262993349, 'min_child_samples': 29, 'num_leaves': 9}. Best is trial 0 with value: 0.8639238014181533.\u001b[0m\n",
      "\u001b[32m[I 2022-08-20 22:36:37,613]\u001b[0m Trial 3 finished with value: 0.8354929803636567 and parameters: {'learning_rate': 0.039531298497904876, 'n_estimators': 475, 'max_depth': 18, 'subsample': 0.9784921350363163, 'colsample_bytree': 0.8447466032319797, 'min_child_samples': 7, 'num_leaves': 24}. Best is trial 0 with value: 0.8639238014181533.\u001b[0m\n",
      "\u001b[32m[I 2022-08-20 22:36:44,213]\u001b[0m Trial 4 finished with value: 0.8566226373188524 and parameters: {'learning_rate': 0.05877439929654828, 'n_estimators': 727, 'max_depth': 18, 'subsample': 0.9496031572440274, 'colsample_bytree': 0.8315570443528512, 'min_child_samples': 12, 'num_leaves': 29}. Best is trial 0 with value: 0.8639238014181533.\u001b[0m\n",
      "\u001b[32m[I 2022-08-20 22:36:46,658]\u001b[0m Trial 5 finished with value: 0.8121572932613881 and parameters: {'learning_rate': 0.029105790245229583, 'n_estimators': 313, 'max_depth': 19, 'subsample': 0.9944957760088232, 'colsample_bytree': 0.8110878814093169, 'min_child_samples': 30, 'num_leaves': 14}. Best is trial 0 with value: 0.8639238014181533.\u001b[0m\n",
      "\u001b[32m[I 2022-08-20 22:36:49,673]\u001b[0m Trial 6 finished with value: 0.8244754477609504 and parameters: {'learning_rate': 0.053049095489826066, 'n_estimators': 635, 'max_depth': 19, 'subsample': 0.915321864057364, 'colsample_bytree': 0.7085809992306498, 'min_child_samples': 20, 'num_leaves': 10}. Best is trial 0 with value: 0.8639238014181533.\u001b[0m\n",
      "\u001b[32m[I 2022-08-20 22:36:52,433]\u001b[0m Trial 7 finished with value: 0.8090457662731294 and parameters: {'learning_rate': 0.020719777160202853, 'n_estimators': 360, 'max_depth': 7, 'subsample': 0.9947645166932467, 'colsample_bytree': 0.7877864690964062, 'min_child_samples': 28, 'num_leaves': 13}. Best is trial 0 with value: 0.8639238014181533.\u001b[0m\n",
      "\u001b[32m[I 2022-08-20 22:36:53,408]\u001b[0m Trial 8 finished with value: 0.8168734093322515 and parameters: {'learning_rate': 0.09402290059816017, 'n_estimators': 100, 'max_depth': 8, 'subsample': 0.952614745899607, 'colsample_bytree': 0.7035638090535614, 'min_child_samples': 24, 'num_leaves': 20}. Best is trial 0 with value: 0.8639238014181533.\u001b[0m\n",
      "\u001b[32m[I 2022-08-20 22:36:58,298]\u001b[0m Trial 9 finished with value: 0.8096554714855502 and parameters: {'learning_rate': 0.017685625547048438, 'n_estimators': 1317, 'max_depth': 13, 'subsample': 0.9958993197156985, 'colsample_bytree': 0.7351598456061371, 'min_child_samples': 18, 'num_leaves': 6}. Best is trial 0 with value: 0.8639238014181533.\u001b[0m\n",
      "\u001b[32m[I 2022-08-20 22:37:07,598]\u001b[0m Trial 10 finished with value: 0.867178017984822 and parameters: {'learning_rate': 0.08677627517317212, 'n_estimators': 1006, 'max_depth': 12, 'subsample': 0.8582528555340891, 'colsample_bytree': 0.8899782004722214, 'min_child_samples': 13, 'num_leaves': 30}. Best is trial 10 with value: 0.867178017984822.\u001b[0m\n",
      "\u001b[32m[I 2022-08-20 22:37:16,928]\u001b[0m Trial 11 finished with value: 0.8678392270061456 and parameters: {'learning_rate': 0.08642307349233055, 'n_estimators': 1022, 'max_depth': 11, 'subsample': 0.8550196070047404, 'colsample_bytree': 0.897513458258174, 'min_child_samples': 12, 'num_leaves': 30}. Best is trial 11 with value: 0.8678392270061456.\u001b[0m\n",
      "\u001b[32m[I 2022-08-20 22:37:26,138]\u001b[0m Trial 12 finished with value: 0.8666857492842386 and parameters: {'learning_rate': 0.09296598204614134, 'n_estimators': 1019, 'max_depth': 12, 'subsample': 0.8521485922442463, 'colsample_bytree': 0.8910468411534765, 'min_child_samples': 12, 'num_leaves': 29}. Best is trial 11 with value: 0.8678392270061456.\u001b[0m\n",
      "\u001b[32m[I 2022-08-20 22:37:33,563]\u001b[0m Trial 13 finished with value: 0.8607068773998956 and parameters: {'learning_rate': 0.07706438703716956, 'n_estimators': 978, 'max_depth': 10, 'subsample': 0.865364657081496, 'colsample_bytree': 0.8994894705289334, 'min_child_samples': 13, 'num_leaves': 23}. Best is trial 11 with value: 0.8678392270061456.\u001b[0m\n",
      "\u001b[32m[I 2022-08-20 22:37:39,833]\u001b[0m Trial 14 finished with value: 0.8562797532026152 and parameters: {'learning_rate': 0.07679377031287696, 'n_estimators': 886, 'max_depth': 10, 'subsample': 0.8229719447476473, 'colsample_bytree': 0.8476619853262592, 'min_child_samples': 5, 'num_leaves': 20}. Best is trial 11 with value: 0.8678392270061456.\u001b[0m\n",
      "\u001b[32m[I 2022-08-20 22:37:53,813]\u001b[0m Trial 15 finished with value: 0.8106932028290248 and parameters: {'learning_rate': 0.0027062416872234638, 'n_estimators': 1150, 'max_depth': 15, 'subsample': 0.8516137244717755, 'colsample_bytree': 0.8705273162877297, 'min_child_samples': 9, 'num_leaves': 30}. Best is trial 11 with value: 0.8678392270061456.\u001b[0m\n",
      "\u001b[32m[I 2022-08-20 22:38:00,023]\u001b[0m Trial 16 finished with value: 0.8606691819848249 and parameters: {'learning_rate': 0.0772879701201221, 'n_estimators': 845, 'max_depth': 11, 'subsample': 0.8783132759012465, 'colsample_bytree': 0.7584078001153385, 'min_child_samples': 15, 'num_leaves': 26}. Best is trial 11 with value: 0.8678392270061456.\u001b[0m\n",
      "\u001b[32m[I 2022-08-20 22:38:09,878]\u001b[0m Trial 17 finished with value: 0.8657269579168692 and parameters: {'learning_rate': 0.08558631652551849, 'n_estimators': 1168, 'max_depth': 15, 'subsample': 0.8326187376963997, 'colsample_bytree': 0.8200936537186981, 'min_child_samples': 9, 'num_leaves': 27}. Best is trial 11 with value: 0.8678392270061456.\u001b[0m\n",
      "\u001b[32m[I 2022-08-20 22:38:20,408]\u001b[0m Trial 18 finished with value: 0.8666600620967615 and parameters: {'learning_rate': 0.09939491336052592, 'n_estimators': 1481, 'max_depth': 9, 'subsample': 0.8464391548651388, 'colsample_bytree': 0.8612810563357586, 'min_child_samples': 15, 'num_leaves': 21}. Best is trial 11 with value: 0.8678392270061456.\u001b[0m\n",
      "\u001b[32m[I 2022-08-20 22:38:25,073]\u001b[0m Trial 19 finished with value: 0.8435035466076051 and parameters: {'learning_rate': 0.06684594409545894, 'n_estimators': 661, 'max_depth': 13, 'subsample': 0.8017958769475317, 'colsample_bytree': 0.8962375421106461, 'min_child_samples': 10, 'num_leaves': 17}. Best is trial 11 with value: 0.8678392270061456.\u001b[0m\n",
      "\u001b[32m[I 2022-08-20 22:38:31,418]\u001b[0m Trial 20 finished with value: 0.8547829562930797 and parameters: {'learning_rate': 0.0860303907510981, 'n_estimators': 878, 'max_depth': 6, 'subsample': 0.898696292830631, 'colsample_bytree': 0.8815268119489144, 'min_child_samples': 15, 'num_leaves': 23}. Best is trial 11 with value: 0.8678392270061456.\u001b[0m\n",
      "\u001b[32m[I 2022-08-20 22:38:40,943]\u001b[0m Trial 21 finished with value: 0.8682781437879108 and parameters: {'learning_rate': 0.09046564128119357, 'n_estimators': 1043, 'max_depth': 12, 'subsample': 0.8595688406101073, 'colsample_bytree': 0.8972234910754942, 'min_child_samples': 12, 'num_leaves': 30}. Best is trial 21 with value: 0.8682781437879108.\u001b[0m\n",
      "\u001b[32m[I 2022-08-20 22:38:51,293]\u001b[0m Trial 22 finished with value: 0.8670084039645725 and parameters: {'learning_rate': 0.0685155115726378, 'n_estimators': 1225, 'max_depth': 11, 'subsample': 0.87044224890353, 'colsample_bytree': 0.8459741321476497, 'min_child_samples': 18, 'num_leaves': 30}. Best is trial 21 with value: 0.8682781437879108.\u001b[0m\n",
      "\u001b[32m[I 2022-08-20 22:38:59,753]\u001b[0m Trial 23 finished with value: 0.8654882183684787 and parameters: {'learning_rate': 0.08607645470262316, 'n_estimators': 1010, 'max_depth': 13, 'subsample': 0.8326982363929919, 'colsample_bytree': 0.8568615516344427, 'min_child_samples': 11, 'num_leaves': 27}. Best is trial 21 with value: 0.8682781437879108.\u001b[0m\n"
     ]
    },
    {
     "name": "stderr",
     "output_type": "stream",
     "text": [
      "\u001b[32m[I 2022-08-20 22:39:07,059]\u001b[0m Trial 24 finished with value: 0.8607237072796963 and parameters: {'learning_rate': 0.07334275951310193, 'n_estimators': 808, 'max_depth': 14, 'subsample': 0.8828486297083751, 'colsample_bytree': 0.8854086382297063, 'min_child_samples': 14, 'num_leaves': 28}. Best is trial 21 with value: 0.8682781437879108.\u001b[0m\n",
      "\u001b[32m[I 2022-08-20 22:39:11,858]\u001b[0m Trial 25 finished with value: 0.8575219102601278 and parameters: {'learning_rate': 0.09986061295822374, 'n_estimators': 560, 'max_depth': 11, 'subsample': 0.8660752969513245, 'colsample_bytree': 0.8968515221781997, 'min_child_samples': 7, 'num_leaves': 25}. Best is trial 21 with value: 0.8682781437879108.\u001b[0m\n",
      "\u001b[32m[I 2022-08-20 22:39:20,438]\u001b[0m Trial 26 finished with value: 0.8657238815822168 and parameters: {'learning_rate': 0.08764868320031236, 'n_estimators': 957, 'max_depth': 16, 'subsample': 0.9137263218709049, 'colsample_bytree': 0.8757239759509452, 'min_child_samples': 17, 'num_leaves': 30}. Best is trial 21 with value: 0.8682781437879108.\u001b[0m\n",
      "\u001b[32m[I 2022-08-20 22:39:28,163]\u001b[0m Trial 27 finished with value: 0.8533249946280718 and parameters: {'learning_rate': 0.045201153622736905, 'n_estimators': 1109, 'max_depth': 9, 'subsample': 0.842552769667121, 'colsample_bytree': 0.8291632065408633, 'min_child_samples': 7, 'num_leaves': 22}. Best is trial 21 with value: 0.8682781437879108.\u001b[0m\n",
      "\u001b[32m[I 2022-08-20 22:39:38,198]\u001b[0m Trial 28 finished with value: 0.8645832705173329 and parameters: {'learning_rate': 0.0647731326124543, 'n_estimators': 1248, 'max_depth': 12, 'subsample': 0.8579637339262894, 'colsample_bytree': 0.8625148221165604, 'min_child_samples': 23, 'num_leaves': 28}. Best is trial 21 with value: 0.8682781437879108.\u001b[0m\n",
      "\u001b[32m[I 2022-08-20 22:39:48,518]\u001b[0m Trial 29 finished with value: 0.8675329674417317 and parameters: {'learning_rate': 0.09321642986576292, 'n_estimators': 1344, 'max_depth': 12, 'subsample': 0.8220571125175039, 'colsample_bytree': 0.8044497526602336, 'min_child_samples': 16, 'num_leaves': 27}. Best is trial 21 with value: 0.8682781437879108.\u001b[0m\n",
      "\u001b[32m[I 2022-08-20 22:39:58,373]\u001b[0m Trial 30 finished with value: 0.8694302871380608 and parameters: {'learning_rate': 0.09290196314467628, 'n_estimators': 1419, 'max_depth': 10, 'subsample': 0.8174406844715957, 'colsample_bytree': 0.7504903633015165, 'min_child_samples': 21, 'num_leaves': 26}. Best is trial 30 with value: 0.8694302871380608.\u001b[0m\n",
      "\u001b[32m[I 2022-08-20 22:40:08,035]\u001b[0m Trial 31 finished with value: 0.866175482024325 and parameters: {'learning_rate': 0.09272649288705978, 'n_estimators': 1426, 'max_depth': 9, 'subsample': 0.818518574014419, 'colsample_bytree': 0.7376815401552879, 'min_child_samples': 21, 'num_leaves': 25}. Best is trial 30 with value: 0.8694302871380608.\u001b[0m\n",
      "\u001b[32m[I 2022-08-20 22:40:18,070]\u001b[0m Trial 32 finished with value: 0.8674530694307632 and parameters: {'learning_rate': 0.08128499419492527, 'n_estimators': 1345, 'max_depth': 10, 'subsample': 0.8005200533574833, 'colsample_bytree': 0.7984000251413439, 'min_child_samples': 17, 'num_leaves': 26}. Best is trial 30 with value: 0.8694302871380608.\u001b[0m\n",
      "\u001b[32m[I 2022-08-20 22:40:29,395]\u001b[0m Trial 33 finished with value: 0.8698867544084588 and parameters: {'learning_rate': 0.09436777326485182, 'n_estimators': 1477, 'max_depth': 14, 'subsample': 0.8352937679389818, 'colsample_bytree': 0.7661787982334419, 'min_child_samples': 25, 'num_leaves': 28}. Best is trial 33 with value: 0.8698867544084588.\u001b[0m\n",
      "\u001b[32m[I 2022-08-20 22:40:40,270]\u001b[0m Trial 34 finished with value: 0.8698237686621388 and parameters: {'learning_rate': 0.09937377781263133, 'n_estimators': 1489, 'max_depth': 14, 'subsample': 0.8353825011967798, 'colsample_bytree': 0.7677910382920646, 'min_child_samples': 26, 'num_leaves': 28}. Best is trial 33 with value: 0.8698867544084588.\u001b[0m\n",
      "\u001b[32m[I 2022-08-20 22:40:48,745]\u001b[0m Trial 35 finished with value: 0.8625341197393401 and parameters: {'learning_rate': 0.09974848008051519, 'n_estimators': 1480, 'max_depth': 16, 'subsample': 0.8346095644192175, 'colsample_bytree': 0.7709643051846473, 'min_child_samples': 26, 'num_leaves': 18}. Best is trial 33 with value: 0.8698867544084588.\u001b[0m\n",
      "\u001b[32m[I 2022-08-20 22:40:58,435]\u001b[0m Trial 36 finished with value: 0.868863093262041 and parameters: {'learning_rate': 0.0947748340807475, 'n_estimators': 1404, 'max_depth': 14, 'subsample': 0.8134921886504726, 'colsample_bytree': 0.7534281767788327, 'min_child_samples': 26, 'num_leaves': 24}. Best is trial 33 with value: 0.8698867544084588.\u001b[0m\n",
      "\u001b[32m[I 2022-08-20 22:41:07,825]\u001b[0m Trial 37 finished with value: 0.8661588615032373 and parameters: {'learning_rate': 0.08183090221151876, 'n_estimators': 1404, 'max_depth': 17, 'subsample': 0.8136396121442685, 'colsample_bytree': 0.7524031145450154, 'min_child_samples': 26, 'num_leaves': 25}. Best is trial 33 with value: 0.8698867544084588.\u001b[0m\n",
      "\u001b[32m[I 2022-08-20 22:41:15,732]\u001b[0m Trial 38 finished with value: 0.8651599022248683 and parameters: {'learning_rate': 0.09519905976622323, 'n_estimators': 1256, 'max_depth': 14, 'subsample': 0.8129762337585692, 'colsample_bytree': 0.7219736212571617, 'min_child_samples': 27, 'num_leaves': 24}. Best is trial 33 with value: 0.8698867544084588.\u001b[0m\n",
      "\u001b[32m[I 2022-08-20 22:41:26,382]\u001b[0m Trial 39 finished with value: 0.8653414958742385 and parameters: {'learning_rate': 0.06142905455686504, 'n_estimators': 1500, 'max_depth': 14, 'subsample': 0.8382706782294548, 'colsample_bytree': 0.7780736362115093, 'min_child_samples': 24, 'num_leaves': 28}. Best is trial 33 with value: 0.8698867544084588.\u001b[0m\n",
      "\u001b[32m[I 2022-08-20 22:41:34,078]\u001b[0m Trial 40 finished with value: 0.8540344774802374 and parameters: {'learning_rate': 0.052070450053321705, 'n_estimators': 1413, 'max_depth': 16, 'subsample': 0.8266224222421708, 'colsample_bytree': 0.760171206715035, 'min_child_samples': 22, 'num_leaves': 18}. Best is trial 33 with value: 0.8698867544084588.\u001b[0m\n",
      "\u001b[32m[I 2022-08-20 22:41:44,071]\u001b[0m Trial 41 finished with value: 0.8696990792924335 and parameters: {'learning_rate': 0.09054718755907985, 'n_estimators': 1398, 'max_depth': 14, 'subsample': 0.8114925224309669, 'colsample_bytree': 0.7465214824681649, 'min_child_samples': 20, 'num_leaves': 28}. Best is trial 33 with value: 0.8698867544084588.\u001b[0m\n",
      "\u001b[32m[I 2022-08-20 22:41:52,831]\u001b[0m Trial 42 finished with value: 0.8659190142182998 and parameters: {'learning_rate': 0.09663784769060757, 'n_estimators': 1387, 'max_depth': 14, 'subsample': 0.8077434798775976, 'colsample_bytree': 0.7435029893627677, 'min_child_samples': 25, 'num_leaves': 24}. Best is trial 33 with value: 0.8698867544084588.\u001b[0m\n",
      "\u001b[32m[I 2022-08-20 22:42:01,414]\u001b[0m Trial 43 finished with value: 0.8675896634249921 and parameters: {'learning_rate': 0.09088960171096493, 'n_estimators': 1244, 'max_depth': 15, 'subsample': 0.8096054060544664, 'colsample_bytree': 0.7193361972366628, 'min_child_samples': 29, 'num_leaves': 28}. Best is trial 33 with value: 0.8698867544084588.\u001b[0m\n",
      "\u001b[32m[I 2022-08-20 22:42:10,563]\u001b[0m Trial 44 finished with value: 0.8670736142415676 and parameters: {'learning_rate': 0.08044353713863384, 'n_estimators': 1316, 'max_depth': 17, 'subsample': 0.957315830528251, 'colsample_bytree': 0.7685552062484807, 'min_child_samples': 20, 'num_leaves': 26}. Best is trial 33 with value: 0.8698867544084588.\u001b[0m\n",
      "\u001b[32m[I 2022-08-20 22:42:11,433]\u001b[0m Trial 45 finished with value: 0.803447245551643 and parameters: {'learning_rate': 0.0725418466654057, 'n_estimators': 79, 'max_depth': 13, 'subsample': 0.8263933113471228, 'colsample_bytree': 0.7866591588435282, 'min_child_samples': 19, 'num_leaves': 10}. Best is trial 33 with value: 0.8698867544084588.\u001b[0m\n",
      "\u001b[32m[I 2022-08-20 22:42:20,434]\u001b[0m Trial 46 finished with value: 0.8655724014818114 and parameters: {'learning_rate': 0.09665893913996797, 'n_estimators': 1444, 'max_depth': 15, 'subsample': 0.8171908845435218, 'colsample_bytree': 0.7470736908434523, 'min_child_samples': 30, 'num_leaves': 23}. Best is trial 33 with value: 0.8698867544084588.\u001b[0m\n",
      "\u001b[32m[I 2022-08-20 22:42:30,111]\u001b[0m Trial 47 finished with value: 0.8697396174180724 and parameters: {'learning_rate': 0.08999257106840126, 'n_estimators': 1355, 'max_depth': 14, 'subsample': 0.934401778605594, 'colsample_bytree': 0.7328089407369535, 'min_child_samples': 22, 'num_leaves': 29}. Best is trial 33 with value: 0.8698867544084588.\u001b[0m\n"
     ]
    },
    {
     "name": "stderr",
     "output_type": "stream",
     "text": [
      "\u001b[32m[I 2022-08-20 22:42:38,511]\u001b[0m Trial 48 finished with value: 0.8588731283347834 and parameters: {'learning_rate': 0.035470683203228076, 'n_estimators': 1173, 'max_depth': 17, 'subsample': 0.9392443827966619, 'colsample_bytree': 0.7259900332761012, 'min_child_samples': 22, 'num_leaves': 29}. Best is trial 33 with value: 0.8698867544084588.\u001b[0m\n",
      "\u001b[32m[I 2022-08-20 22:42:47,422]\u001b[0m Trial 49 finished with value: 0.8668583682967137 and parameters: {'learning_rate': 0.08136509792999086, 'n_estimators': 1300, 'max_depth': 13, 'subsample': 0.924240462461315, 'colsample_bytree': 0.7313574656265307, 'min_child_samples': 24, 'num_leaves': 27}. Best is trial 33 with value: 0.8698867544084588.\u001b[0m\n"
     ]
    },
    {
     "name": "stdout",
     "output_type": "stream",
     "text": [
      "FrozenTrial(number=33, values=[0.8698867544084588], datetime_start=datetime.datetime(2022, 8, 20, 22, 40, 18, 71172), datetime_complete=datetime.datetime(2022, 8, 20, 22, 40, 29, 395173), params={'learning_rate': 0.09436777326485182, 'n_estimators': 1477, 'max_depth': 14, 'subsample': 0.8352937679389818, 'colsample_bytree': 0.7661787982334419, 'min_child_samples': 25, 'num_leaves': 28}, distributions={'learning_rate': UniformDistribution(high=0.1, low=0.001), 'n_estimators': IntUniformDistribution(high=1500, low=10, step=1), 'max_depth': IntUniformDistribution(high=20, low=6, step=1), 'subsample': UniformDistribution(high=1.0, low=0.8), 'colsample_bytree': UniformDistribution(high=0.9, low=0.7), 'min_child_samples': IntUniformDistribution(high=30, low=5, step=1), 'num_leaves': IntUniformDistribution(high=30, low=5, step=1)}, user_attrs={}, system_attrs={}, intermediate_values={}, trial_id=33, state=TrialState.COMPLETE, value=None)\n"
     ]
    }
   ],
   "source": [
    "def objective(trial):\n",
    "    lgbm_learning_rate = trial.suggest_float(\"learning_rate\", 0.001, 0.1)\n",
    "    lgbm_n_estimators = trial.suggest_int(\"n_estimators\", 10, 1500)\n",
    "    lgbm_max_depth = trial.suggest_int(\"max_depth\", 6, 20)\n",
    "    lgbm_subsample = trial.suggest_float(\"subsample\", 0.8, 1)\n",
    "    lgbm_colsample_bytree = trial.suggest_float(\"colsample_bytree\", 0.7, 0.9)\n",
    "    lgbm_min_child_samples = trial.suggest_int(\"min_child_samples\", 5, 30)\n",
    "    lgbm_num_leaves = trial.suggest_int(\"num_leaves\", 5, 30)\n",
    "\n",
    "    \n",
    "    classifier_obj = LGBMClassifier(learning_rate=lgbm_learning_rate,\n",
    "                                    n_estimators=lgbm_n_estimators,\n",
    "                                    max_depth = lgbm_max_depth, # 과적합된 것 같다 _ max_depth 값을 줄이기\n",
    "                                    subsample = lgbm_subsample,\n",
    "                                    colsample_bytree = lgbm_colsample_bytree,\n",
    "                                    min_child_samples = lgbm_min_child_samples, # 보통 큰 값으로 설정하면 트리가 깊어지는 것을 방지\n",
    "                                    num_leaves = lgbm_num_leaves,\n",
    "                                    application ='binary',\n",
    "                                    # num_leaves의 개수를 높이면 정확도가 높아지지만, \n",
    "                                    # 반대로 트리의 깊이가 깊어지고 모델이 복잡도가 커져 과적합 영향도가 커짐\n",
    "                                    random_state = 2020\n",
    "                                    )\n",
    "\n",
    "    score = model_selection.cross_val_score(classifier_obj, X_train_et, y_bsmote, scoring='roc_auc', cv=4, n_jobs=-1)\n",
    "    roc_auc = score.mean()\n",
    "    return roc_auc\n",
    "\n",
    "\n",
    "study = optuna.create_study(direction=\"maximize\")\n",
    "study.optimize(objective, n_trials=50)\n",
    "print(study.best_trial)"
   ]
  },
  {
   "cell_type": "code",
   "execution_count": 56,
   "id": "a4b8bd39",
   "metadata": {},
   "outputs": [
    {
     "data": {
      "text/plain": [
       "LGBMClassifier(colsample_bytree=0.7661787982334419,\n",
       "               learning_rate=0.09436777326485182, max_depth=14,\n",
       "               min_child_samples=25, n_estimators=1477, num_leaves=28,\n",
       "               random_state=2020, subsample=0.8352937679389818)"
      ]
     },
     "execution_count": 56,
     "metadata": {},
     "output_type": "execute_result"
    }
   ],
   "source": [
    "max_lgbm = study.best_params\n",
    "lgbm_tune = LGBMClassifier(**max_lgbm, random_state=2020)\n",
    "lgbm_tune.fit(X_train_et, y_bsmote)"
   ]
  },
  {
   "cell_type": "code",
   "execution_count": 57,
   "id": "0b8ee5cc",
   "metadata": {},
   "outputs": [
    {
     "name": "stdout",
     "output_type": "stream",
     "text": [
      "[0.8538228  0.85538204 0.86791977 0.90242101]\n"
     ]
    }
   ],
   "source": [
    "lgbm_cv = cross_val_score(lgbm_tune, X_train_et, y_bsmote, cv=4, scoring = 'roc_auc')\n",
    "print(lgbm_cv)"
   ]
  },
  {
   "cell_type": "code",
   "execution_count": 58,
   "id": "6c654847",
   "metadata": {},
   "outputs": [],
   "source": [
    "clfs_tuned.append((type(lgbm_tune).__name__, \n",
    "                   lgbm_tune, \n",
    "                   np.mean(lgbm_cv)))"
   ]
  },
  {
   "cell_type": "code",
   "execution_count": 59,
   "id": "33fcea1a",
   "metadata": {},
   "outputs": [
    {
     "data": {
      "text/plain": [
       "('LGBMClassifier',\n",
       " LGBMClassifier(colsample_bytree=0.7661787982334419,\n",
       "                learning_rate=0.09436777326485182, max_depth=14,\n",
       "                min_child_samples=25, n_estimators=1477, num_leaves=28,\n",
       "                random_state=2020, subsample=0.8352937679389818),\n",
       " 0.8698864063625278)"
      ]
     },
     "execution_count": 59,
     "metadata": {},
     "output_type": "execute_result"
    }
   ],
   "source": [
    "# mean score\n",
    "clfs_tuned[2]"
   ]
  },
  {
   "cell_type": "markdown",
   "id": "83281d78",
   "metadata": {},
   "source": [
    "### Model Ensemble"
   ]
  },
  {
   "cell_type": "code",
   "execution_count": 62,
   "id": "2537e078",
   "metadata": {},
   "outputs": [
    {
     "data": {
      "text/plain": [
       "ExtraTreesClassifier \\n(0.8912)      0.800096\n",
       "RandomForestClassifier \\n(0.8033)    0.734795\n",
       "LGBMClassifier \\n(0.8699)            0.830599\n",
       "dtype: float64"
      ]
     },
     "execution_count": 62,
     "metadata": {},
     "output_type": "execute_result"
    }
   ],
   "source": [
    "# 상관관계 확인\n",
    "(ensemble_results.corr().sum()-1)/(ensemble_results.corr().shape[0]-1)"
   ]
  },
  {
   "cell_type": "markdown",
   "id": "28bf7853",
   "metadata": {},
   "source": [
    "Voting"
   ]
  },
  {
   "cell_type": "code",
   "execution_count": 74,
   "id": "dee1a7cf",
   "metadata": {},
   "outputs": [
    {
     "data": {
      "text/plain": [
       "[('ExtraTreesClassifier',\n",
       "  ExtraTreesClassifier(max_depth=192, n_estimators=1235, random_state=2020),\n",
       "  0.8911544869153293),\n",
       " ('RandomForestClassifier',\n",
       "  RandomForestClassifier(criterion='entropy', max_depth=10, max_leaf_nodes=100,\n",
       "                         n_estimators=118, n_jobs=-1),\n",
       "  0.8032652408726086),\n",
       " ('LGBMClassifier',\n",
       "  LGBMClassifier(colsample_bytree=0.7661787982334419,\n",
       "                 learning_rate=0.09436777326485182, max_depth=14,\n",
       "                 min_child_samples=25, n_estimators=1477, num_leaves=28,\n",
       "                 random_state=2020, subsample=0.8352937679389818),\n",
       "  0.8698864063625278)]"
      ]
     },
     "execution_count": 74,
     "metadata": {},
     "output_type": "execute_result"
    }
   ],
   "source": [
    "clfs_tuned"
   ]
  },
  {
   "cell_type": "code",
   "execution_count": 76,
   "id": "6c2dd1f2",
   "metadata": {},
   "outputs": [
    {
     "name": "stdout",
     "output_type": "stream",
     "text": [
      "[0.88460416 0.88302264 0.88334325 0.89090583 0.93029239] 0.8944336531546865\n"
     ]
    }
   ],
   "source": [
    "# RandomForest의 성능이 많이 떨어진다고 판단하여 ExtraTree와 LGBM만으로 Voting을 진행\n",
    "\n",
    "from sklearn.ensemble import VotingClassifier\n",
    "from sklearn.metrics import roc_auc_score\n",
    "\n",
    "models1 =  (clfs_tuned[0], # ExtraTreesClassifier\n",
    "            #clfs_tuned[1], # RandomForestClassifier\n",
    "            clfs_tuned[2], # LGBMClassifier\n",
    "            )\n",
    "\n",
    "estimators1 = [(name, clf) for name, clf, _ in models1]\n",
    "\n",
    "voting_clf = VotingClassifier(estimators = estimators1, voting='soft', n_jobs=-1)\n",
    "voting_clf.fit(X_train_et, y_bsmote)\n",
    "\n",
    "cv_score = cross_val_score(voting_clf, X_train_et, y_bsmote, scoring='roc_auc', cv=5)\n",
    "\n",
    "print(cv_score, cv_score.mean())"
   ]
  },
  {
   "cell_type": "markdown",
   "id": "bfb4bb31",
   "metadata": {},
   "source": [
    "**제출 csv 만들기**"
   ]
  },
  {
   "cell_type": "code",
   "execution_count": 78,
   "id": "3245035b",
   "metadata": {},
   "outputs": [],
   "source": [
    "voting_clf_pred = voting_clf.predict_proba(X_test_et)[:,1]"
   ]
  },
  {
   "cell_type": "code",
   "execution_count": 79,
   "id": "9113e7f2",
   "metadata": {},
   "outputs": [],
   "source": [
    "submission = pd.read_csv('sample_submission.csv')"
   ]
  },
  {
   "cell_type": "code",
   "execution_count": 80,
   "id": "85c3ff04",
   "metadata": {},
   "outputs": [],
   "source": [
    "submission[\"nerdiness\"] = voting_clf_pred"
   ]
  },
  {
   "cell_type": "code",
   "execution_count": 81,
   "id": "5af74b32",
   "metadata": {},
   "outputs": [
    {
     "data": {
      "text/html": [
       "<div>\n",
       "<style scoped>\n",
       "    .dataframe tbody tr th:only-of-type {\n",
       "        vertical-align: middle;\n",
       "    }\n",
       "\n",
       "    .dataframe tbody tr th {\n",
       "        vertical-align: top;\n",
       "    }\n",
       "\n",
       "    .dataframe thead th {\n",
       "        text-align: right;\n",
       "    }\n",
       "</style>\n",
       "<table border=\"1\" class=\"dataframe\">\n",
       "  <thead>\n",
       "    <tr style=\"text-align: right;\">\n",
       "      <th></th>\n",
       "      <th>index</th>\n",
       "      <th>nerdiness</th>\n",
       "    </tr>\n",
       "  </thead>\n",
       "  <tbody>\n",
       "    <tr>\n",
       "      <th>0</th>\n",
       "      <td>0</td>\n",
       "      <td>0.017897</td>\n",
       "    </tr>\n",
       "    <tr>\n",
       "      <th>1</th>\n",
       "      <td>1</td>\n",
       "      <td>0.863181</td>\n",
       "    </tr>\n",
       "    <tr>\n",
       "      <th>2</th>\n",
       "      <td>2</td>\n",
       "      <td>0.894188</td>\n",
       "    </tr>\n",
       "    <tr>\n",
       "      <th>3</th>\n",
       "      <td>3</td>\n",
       "      <td>0.746717</td>\n",
       "    </tr>\n",
       "    <tr>\n",
       "      <th>4</th>\n",
       "      <td>4</td>\n",
       "      <td>0.965407</td>\n",
       "    </tr>\n",
       "    <tr>\n",
       "      <th>...</th>\n",
       "      <td>...</td>\n",
       "      <td>...</td>\n",
       "    </tr>\n",
       "    <tr>\n",
       "      <th>35447</th>\n",
       "      <td>35447</td>\n",
       "      <td>0.984639</td>\n",
       "    </tr>\n",
       "    <tr>\n",
       "      <th>35448</th>\n",
       "      <td>35448</td>\n",
       "      <td>0.625221</td>\n",
       "    </tr>\n",
       "    <tr>\n",
       "      <th>35449</th>\n",
       "      <td>35449</td>\n",
       "      <td>0.967260</td>\n",
       "    </tr>\n",
       "    <tr>\n",
       "      <th>35450</th>\n",
       "      <td>35450</td>\n",
       "      <td>0.007041</td>\n",
       "    </tr>\n",
       "    <tr>\n",
       "      <th>35451</th>\n",
       "      <td>35451</td>\n",
       "      <td>0.670350</td>\n",
       "    </tr>\n",
       "  </tbody>\n",
       "</table>\n",
       "<p>35452 rows × 2 columns</p>\n",
       "</div>"
      ],
      "text/plain": [
       "       index  nerdiness\n",
       "0          0   0.017897\n",
       "1          1   0.863181\n",
       "2          2   0.894188\n",
       "3          3   0.746717\n",
       "4          4   0.965407\n",
       "...      ...        ...\n",
       "35447  35447   0.984639\n",
       "35448  35448   0.625221\n",
       "35449  35449   0.967260\n",
       "35450  35450   0.007041\n",
       "35451  35451   0.670350\n",
       "\n",
       "[35452 rows x 2 columns]"
      ]
     },
     "execution_count": 81,
     "metadata": {},
     "output_type": "execute_result"
    }
   ],
   "source": [
    "submission"
   ]
  },
  {
   "cell_type": "code",
   "execution_count": 82,
   "id": "cccd6eb1",
   "metadata": {},
   "outputs": [],
   "source": [
    "submission.to_csv(\"voting_ltb_0820.csv\", index = False)"
   ]
  },
  {
   "cell_type": "markdown",
   "id": "4a7ae34a",
   "metadata": {},
   "source": [
    "단독 제출 public 점수 : 0.9053248087"
   ]
  },
  {
   "cell_type": "markdown",
   "id": "ba6f16c5",
   "metadata": {},
   "source": [
    "## Version 3 / Feature making"
   ]
  },
  {
   "cell_type": "code",
   "execution_count": 1,
   "id": "cd99424e",
   "metadata": {},
   "outputs": [],
   "source": [
    "# Data Wrangling\n",
    "import pandas as pd\n",
    "from pandas import Series, DataFrame\n",
    "import numpy as np\n",
    "\n",
    "# Visualization\n",
    "import matplotlib.pylab as plt\n",
    "from matplotlib import font_manager, rc\n",
    "import seaborn as sns\n",
    "%matplotlib inline\n",
    "plt.rc('font',family='Malgun Gothic')\n",
    "\n",
    "# Data Split\n",
    "from sklearn.model_selection import cross_val_score\n",
    "from sklearn.model_selection import KFold\n",
    "from sklearn.model_selection import StratifiedKFold\n",
    "seed = 42\n",
    "skf = StratifiedKFold(n_splits=5, shuffle=True, random_state=seed)\n",
    "\n",
    "# Preprocessing & Feature Engineering\n",
    "from sklearn.model_selection import train_test_split\n",
    "from sklearn.preprocessing import MinMaxScaler\n",
    "\n",
    "# Hyperparameter Optimization\n",
    "from bayes_opt import BayesianOptimization\n",
    "\n",
    "# Modeling\n",
    "from sklearn.ensemble import ExtraTreesClassifier\n",
    "\n",
    "# Evaluation\n",
    "from sklearn.metrics import roc_auc_score\n",
    "from sklearn.model_selection import cross_val_score\n",
    "\n",
    "# Utility\n",
    "import shap\n",
    "import os\n",
    "import time\n",
    "import random\n",
    "import warnings; warnings.filterwarnings(\"ignore\")\n",
    "from IPython.display import Image\n",
    "from tqdm import tqdm, tqdm_notebook\n",
    "import warnings\n",
    "import optuna"
   ]
  },
  {
   "cell_type": "code",
   "execution_count": 2,
   "id": "05a547a0",
   "metadata": {},
   "outputs": [],
   "source": [
    "train = pd.read_csv('train.csv')\n",
    "test = pd.read_csv('test.csv')\n",
    "submission = pd.read_csv('sample_submission.csv')"
   ]
  },
  {
   "cell_type": "code",
   "execution_count": 3,
   "id": "127eba86",
   "metadata": {},
   "outputs": [],
   "source": [
    "y_train=train.iloc[:,-1]\n",
    "train=train.iloc[:,1:-1]\n",
    "test=test.iloc[:,1:]"
   ]
  },
  {
   "cell_type": "markdown",
   "id": "aa7f1290",
   "metadata": {},
   "source": [
    "### Data Preprocessing"
   ]
  },
  {
   "cell_type": "code",
   "execution_count": 5,
   "id": "3ea3b896",
   "metadata": {},
   "outputs": [],
   "source": [
    "train.fillna(\"NAN\", inplace=True)\n",
    "test.fillna(\"NAN\", inplace=True)"
   ]
  },
  {
   "cell_type": "code",
   "execution_count": 8,
   "id": "bfc10d4c",
   "metadata": {},
   "outputs": [],
   "source": [
    "# 모든 문항에 대한 결측값 합산\n",
    "col=train.columns.to_list()\n",
    "train[\"normal_Nsum\"]=train[col].applymap(lambda x: 1 if x==\"NAN\" else 0 ).sum(axis=1)\n",
    "test[\"normal_Nsum\"]=test[col].applymap(lambda x: 1 if x==\"NAN\" else 0 ).sum(axis=1)"
   ]
  },
  {
   "cell_type": "code",
   "execution_count": 9,
   "id": "bdb7a951",
   "metadata": {},
   "outputs": [],
   "source": [
    "# 매우 그렇다라고 응답하였을 경우 안좋아 보이는 질문에 대해 매우 그렇다고 한 응답 수 합산 q버전\n",
    "\n",
    "normal_q=['Q1', 'Q2', 'Q5', 'Q8', 'Q12', 'Q13', 'Q15', 'Q19', 'Q20']\n",
    "train[\"normal_qsum\"]=train[normal_q].applymap(lambda x: 1 if x==5 else 0 ).sum(axis=1)\n",
    "test[\"normal_qsum\"]=test[normal_q].applymap(lambda x: 1 if x==5 else 0 ).sum(axis=1)"
   ]
  },
  {
   "cell_type": "code",
   "execution_count": 10,
   "id": "5b021246",
   "metadata": {},
   "outputs": [],
   "source": [
    "# 아래 문항은 타 문항과 다르게 1의 값이 5보다 많은 경우로 답변의 성실도를 파악\n",
    "\n",
    "normal_ss=['Q11', 'Q15', 'Q19', 'Q21', 'Q22']\n",
    "train[\"normal_ss\"]=train[normal_ss].applymap(lambda x: 1 if x==1 else 0 ).sum(axis=1)\n",
    "test[\"normal_ss\"]=test[normal_ss].applymap(lambda x: 1 if x==1 else 0 ).sum(axis=1)"
   ]
  },
  {
   "cell_type": "code",
   "execution_count": 11,
   "id": "44639f28",
   "metadata": {},
   "outputs": [],
   "source": [
    "# Q 문항에 대해 각 응답 별 합 및 평균 단, 1의 값이 5보다 많은 경우의 답변을 제외.\n",
    "\n",
    "Q_LST=[x for x in train.columns.to_list() if x[0]==\"Q\" and x not in normal_ss]\n",
    "train[\"normal_q1\"]=train[Q_LST].applymap(lambda x: 1 if x==1 else 0 ).sum(axis=1)\n",
    "test[\"normal_q1\"]=test[Q_LST].applymap(lambda x: 1 if x==1 else 0 ).sum(axis=1)\n",
    "\n",
    "train[\"normal_q2\"]=train[Q_LST].applymap(lambda x: 1 if x==2 else 0 ).sum(axis=1)\n",
    "test[\"normal_q2\"]=test[Q_LST].applymap(lambda x: 1 if x==2 else 0 ).sum(axis=1)\n",
    "\n",
    "train[\"normal_q3\"]=train[Q_LST].applymap(lambda x: 1 if x==3 else 0 ).sum(axis=1)\n",
    "test[\"normal_q3\"]=test[Q_LST].applymap(lambda x: 1 if x==3 else 0 ).sum(axis=1)\n",
    "\n",
    "train[\"normal_q4\"]=train[Q_LST].applymap(lambda x: 1 if x==4 else 0 ).sum(axis=1)\n",
    "test[\"normal_q4\"]=test[Q_LST].applymap(lambda x: 1 if x==4 else 0 ).sum(axis=1)\n",
    "\n",
    "train[\"normal_q5\"]=train[Q_LST].applymap(lambda x: 1 if x==5 else 0 ).sum(axis=1)\n",
    "test[\"normal_q5\"]=test[Q_LST].applymap(lambda x: 1 if x==5 else 0 ).sum(axis=1)\n",
    "\n",
    "train[\"normal_me\"]=train[Q_LST].applymap(lambda x: 2.5 if x==\"NAN\" else x ).mean(axis=1)\n",
    "test[\"normal_me\"]=test[Q_LST].applymap(lambda x: 2.5 if x==\"NAN\" else x ).mean(axis=1)"
   ]
  },
  {
   "cell_type": "code",
   "execution_count": 12,
   "id": "f0a6c2d4",
   "metadata": {},
   "outputs": [],
   "source": [
    "# 매우 그렇다라고 응답하였을 경우 안좋아 보이는 질문에 대해 매우 그렇다고 한 응답 수 합산 t버전\n",
    "\n",
    "normal_t=['TIPI2', 'TIPI4', 'TIPI5', 'TIPI8']\n",
    "train[\"normal_tsum\"]=train[normal_t].applymap(lambda x: 1 if x==5 else 0 ).sum(axis=1)\n",
    "test[\"normal_tsum\"]=test[normal_t].applymap(lambda x: 1 if x==5 else 0 ).sum(axis=1)"
   ]
  },
  {
   "cell_type": "code",
   "execution_count": 13,
   "id": "44f01686",
   "metadata": {},
   "outputs": [],
   "source": [
    "# 매우 그렇다라고 응답하였을 경우 좋아 보이는 질문에 대해 매우 그렇다고 한 응답 수 합산 t버전\n",
    "\n",
    "normal_t_1=['TIPI1', 'TIPI3', 'TIPI6', 'TIPI7', 'TIPI9', 'TIPI10']\n",
    "train[\"normal_tsum_1\"]=train[normal_t_1].applymap(lambda x: 1 if x==5 else 0 ).sum(axis=1)\n",
    "test[\"normal_tsum_1\"]=test[normal_t_1].applymap(lambda x: 1 if x==5 else 0 ).sum(axis=1)"
   ]
  },
  {
   "cell_type": "code",
   "execution_count": 14,
   "id": "bb843f6f",
   "metadata": {},
   "outputs": [],
   "source": [
    "# 1~5까지의 질문 중 극단적으로 답한 사람들과 애매한 사람들 그리고 질문에 대답을 하지 않은 사람들\n",
    "\n",
    "QT_LST=[x for x in train.columns.to_list() if x[0]==\"Q\" or x[0]==\"T\"]\n",
    "train[\"normal_15sum\"]=train[QT_LST].applymap(lambda x: 1 if x==5 or x==1 else 0 ).sum(axis=1)\n",
    "test[\"normal_15sum\"]=test[QT_LST].applymap(lambda x: 1 if x==5 or x==1 else 0 ).sum(axis=1)\n",
    "\n",
    "train[\"normal_24sum\"]=train[QT_LST].applymap(lambda x: 1 if x==2 or x==4 else 0 ).sum(axis=1)\n",
    "test[\"normal_24sum\"]=test[QT_LST].applymap(lambda x: 1 if x==2 or x==4 else 0 ).sum(axis=1)\n",
    "\n",
    "train[\"normal_33sum\"]=train[QT_LST].applymap(lambda x: 1 if x==3  else 0 ).sum(axis=1)\n",
    "test[\"normal_33sum\"]=test[QT_LST].applymap(lambda x: 1 if x==3 else 0 ).sum(axis=1)\n",
    "\n",
    "train[\"normal_nosum\"]=train[QT_LST].applymap(lambda x: 1 if x==\"NAN\"  else 0 ).sum(axis=1)\n",
    "test[\"normal_nosum\"]=test[QT_LST].applymap(lambda x: 1 if x==\"NAN\" else 0 ).sum(axis=1)"
   ]
  },
  {
   "cell_type": "code",
   "execution_count": 15,
   "id": "cefdf732",
   "metadata": {},
   "outputs": [],
   "source": [
    "# 단어 정의 질문에 대해 없는 단어에 안다고 한 문항의 합\n",
    "\n",
    "normal_v=[\"VCL6\",\"VCL9\",\"VCL12\"]\n",
    "train[\"normal_v\"]=train[normal_v].applymap(lambda x: 1 if x==1 else 0 ).sum(axis=1)\n",
    "test[\"normal_v\"]=test[normal_v].applymap(lambda x: 1 if x==1 else 0 ).sum(axis=1)"
   ]
  },
  {
   "cell_type": "code",
   "execution_count": 16,
   "id": "1dda9e6c",
   "metadata": {},
   "outputs": [],
   "source": [
    "# 단어 정의 질문에 대해 안다고 한 평균\n",
    "\n",
    "V_LST=[x for x in train.columns.to_list() if x[0]==\"V\"]\n",
    "train[\"normal_word\"]=train[V_LST].mean(axis=1)\n",
    "test[\"normal_word\"]=test[V_LST].mean(axis=1)"
   ]
  },
  {
   "cell_type": "code",
   "execution_count": 17,
   "id": "68c0129d",
   "metadata": {},
   "outputs": [],
   "source": [
    "# 설문조사 걸린 시간에 대해 상위 하위 구분 너무 빨리 하거나, 너무 늦게 했을 경우 판단.\n",
    "\n",
    "time_lst=[\"introelapse\", \"surveyelapse\", \"testelapse\"]\n",
    "\n",
    "train[\"time\"]=train[time_lst].sum(axis=1)\n",
    "test[\"time\"]=test[time_lst].sum(axis=1)\n",
    "time_lst.append(\"time\")\n",
    "\n",
    "for t in time_lst:\n",
    "    eighty=train[t].quantile(0.8)\n",
    "    twenty=train[t].quantile(0.2)\n",
    "    \n",
    "    train[t+\" eighty\"] = train[t].apply(lambda x: 1 if x >= eighty else 0)\n",
    "    test[t+\" eighty\"] = test[t].apply(lambda x: 1 if x >= eighty else 0)\n",
    "    \n",
    "    train[t+\" twenty\"] = train[t].apply(lambda x: 1 if x <= twenty else 0)\n",
    "    test[t+\" twenty\"] = test[t].apply(lambda x: 1 if x <= twenty else 0)"
   ]
  },
  {
   "cell_type": "code",
   "execution_count": 18,
   "id": "fabdb412",
   "metadata": {},
   "outputs": [],
   "source": [
    "category_LST=[x for x in train.columns.to_list() if x[0]==\"Q\" or x[0]==\"T\" or x[0]==\"V\"]\n",
    "C_LST=[\"country\", \"education\", \"urban\", \"gender\", \"engnat\", \"hand\", \"religion\", \"orientation\", \"voted\", \"married\", \"ASD\",\n",
    "      \"introelapse eighty\", \"introelapse twenty\", \"surveyelapse eighty\", \"surveyelapse twenty\",\n",
    "      \"testelapse eighty\", \"testelapse twenty\"]\n",
    "numeric_LST = list(set(train.columns.to_list())-set(category_LST)-set(C_LST))"
   ]
  },
  {
   "cell_type": "code",
   "execution_count": 21,
   "id": "2c7f6738",
   "metadata": {},
   "outputs": [
    {
     "name": "stdout",
     "output_type": "stream",
     "text": [
      "familysize 11.0\n",
      "age 69.0\n",
      "introelapse 54407.30000000373\n",
      "surveyelapse 7235.201000000041\n",
      "testelapse 5467.512000000308\n",
      "time 80885.3940000011\n"
     ]
    }
   ],
   "source": [
    "# 수치형 변수 한계 값 설정\n",
    "\n",
    "train.loc[train[\"familysize\"]==\"NAN\",\"familysize\"]=11\n",
    "test.loc[test[\"familysize\"]==\"NAN\",\"familysize\"]=11\n",
    "\n",
    "numeric_sc = [\"familysize\", \"age\", \"introelapse\", \"surveyelapse\", \"testelapse\", \"time\"]\n",
    "for n in numeric_sc:\n",
    "    mn=train[n].quantile(.003)\n",
    "    mx=train[n].quantile(.997)\n",
    "    print(n, mx)\n",
    "    train[n]=train[n].clip(mn, mx, axis=0)\n",
    "    test[n]=test[n].clip(mn, mx, axis=0)"
   ]
  },
  {
   "cell_type": "code",
   "execution_count": 22,
   "id": "9ae9e49a",
   "metadata": {},
   "outputs": [],
   "source": [
    "# 시간 변수 로그 변환\n",
    "train[[\"introelapse\", \"surveyelapse\", \"testelapse\", \"time\"]]=train[[\"introelapse\", \"surveyelapse\", \"testelapse\", \"time\"]].applymap(lambda x: np.log1p(x))\n",
    "test[[\"introelapse\", \"surveyelapse\", \"testelapse\", \"time\"]]=test[[\"introelapse\", \"surveyelapse\", \"testelapse\", \"time\"]].applymap(lambda x: np.log1p(x))"
   ]
  },
  {
   "cell_type": "code",
   "execution_count": 23,
   "id": "7a0f7e39",
   "metadata": {},
   "outputs": [],
   "source": [
    "# 수치형 변수 민맥스 스케일링 진행 범주형 변수를 민 인코딩 진행할 예정이기에 맞춤.\n",
    "# 값의 종류를 0~1로 설정하기 위함.\n",
    "\n",
    "minmax_scaler = MinMaxScaler()\n",
    "minmax_scaler.fit(train[numeric_LST])\n",
    "\n",
    "# 훈련 데이터 스케일링\n",
    "train_scaled = minmax_scaler.transform(train[numeric_LST])\n",
    "\n",
    "# 테스트 데이터의 스케일링\n",
    "test_scaled = minmax_scaler.transform(test[numeric_LST])"
   ]
  },
  {
   "cell_type": "code",
   "execution_count": 24,
   "id": "a9d435ed",
   "metadata": {},
   "outputs": [],
   "source": [
    "train[numeric_LST]=pd.DataFrame(train_scaled, columns=numeric_LST)\n",
    "test[numeric_LST]=pd.DataFrame(test_scaled, columns=numeric_LST)"
   ]
  },
  {
   "cell_type": "code",
   "execution_count": 25,
   "id": "814af23e",
   "metadata": {},
   "outputs": [],
   "source": [
    "# country binary encoding 진행 -> country값의 종류가 많아 binary encoding을 사용\n",
    "# train에 없는 country일 경우 전부 결측값으로 변환\n",
    "test[\"country\"]=test[\"country\"].apply(lambda x: x if x in list(train[\"country\"].unique()) else \"NAN\")\n",
    "\n",
    "import category_encoders as ce\n",
    "encoder = ce.BinaryEncoder(cols=[\"country\"])\n",
    "\n",
    "train_country=encoder.fit_transform(train[\"country\"])\n",
    "test_country=encoder.transform(test[\"country\"])"
   ]
  },
  {
   "cell_type": "code",
   "execution_count": 26,
   "id": "9b886f6a",
   "metadata": {},
   "outputs": [],
   "source": [
    "# 범주형 변수 mean encoding 진행  mean encoding 과적합 방지를 위해 k-fold 추가하여 다양한 mean encoding 값을 생성\n",
    "category_LST = category_LST + C_LST\n",
    "category_LST.remove(\"country\")\n",
    "category_LST.append(\"Target\")"
   ]
  },
  {
   "cell_type": "code",
   "execution_count": 27,
   "id": "734a599e",
   "metadata": {},
   "outputs": [],
   "source": [
    "# train에는 k-fold를 이용한 다양한 값의 mean encoding주입하기\n",
    "skf = StratifiedKFold(n_splits=5, shuffle=True, random_state=42)\n",
    "train_new = train[category_LST].copy()\n",
    "\n",
    "for ca_c in category_LST:\n",
    "    if ca_c==\"Target\": break;\n",
    "    train_new[ca_c+'_mean'] = np.nan\n",
    "\n",
    "    # 각 Fold iteration.\n",
    "    for tr_idx, val_idx in skf.split(train.drop(\"Target\", axis=1), train[\"Target\"]):\n",
    "        X_train, X_val = train.loc[tr_idx], train.loc[val_idx]\n",
    "        # train set 에서 구한 mean encoded 값을 validation set 에 매핑해줌.\n",
    "        train_new.loc[val_idx,ca_c+'_mean'] = X_val[ca_c].map(X_train.groupby(ca_c)[\"Target\"].mean())"
   ]
  },
  {
   "cell_type": "code",
   "execution_count": 28,
   "id": "567561eb",
   "metadata": {},
   "outputs": [],
   "source": [
    "# 테스트에 트레인을 이용하여 mean encoding주입하기\n",
    "for ca_c in category_LST:\n",
    "    if ca_c==\"Target\": break;\n",
    "    test[ca_c+\"_mean\"]=test[ca_c].map(train.groupby(ca_c)[\"Target\"].mean())"
   ]
  },
  {
   "cell_type": "code",
   "execution_count": 29,
   "id": "5238aeb7",
   "metadata": {},
   "outputs": [],
   "source": [
    "mean_lst=list(set(train_new.columns.to_list())-set(category_LST))\n",
    "category_LST.remove(\"Target\")"
   ]
  },
  {
   "cell_type": "code",
   "execution_count": 30,
   "id": "1aabbd87",
   "metadata": {},
   "outputs": [],
   "source": [
    "# 데이터 프레임 정리\n",
    "\n",
    "train=pd.concat([train_new[mean_lst], train_country, train[numeric_LST]],axis=1)\n",
    "test=pd.concat([test[mean_lst], test_country, test[numeric_LST]],axis=1)"
   ]
  },
  {
   "cell_type": "markdown",
   "id": "c4842edc",
   "metadata": {},
   "source": [
    "## Version 3 / Modeling"
   ]
  },
  {
   "cell_type": "markdown",
   "id": "dea2c2f8",
   "metadata": {},
   "source": [
    "target데이터 값의 비율을 일치시키기 위한 Oversampling 사용 \\( Borderline SMOTE \\)"
   ]
  },
  {
   "cell_type": "code",
   "execution_count": 33,
   "id": "7e6f3c76",
   "metadata": {
    "scrolled": false
   },
   "outputs": [],
   "source": [
    "from imblearn.over_sampling import BorderlineSMOTE\n",
    "bsmote = BorderlineSMOTE(random_state=2020, k_neighbors=5, m_neighbors=10)\n",
    "X_bsmote, y_bsmote = bsmote.fit_resample(train,y_train)\n",
    "\n",
    "X_bsmote.shape, y_bsmote.shape"
   ]
  },
  {
   "cell_type": "code",
   "execution_count": 35,
   "id": "bbe2f3f6",
   "metadata": {},
   "outputs": [
    {
     "data": {
      "text/plain": [
       "(1    8303\n",
       " 0    6697\n",
       " Name: nerdiness, dtype: int64,\n",
       " 1    8303\n",
       " 0    8303\n",
       " Name: nerdiness, dtype: int64)"
      ]
     },
     "execution_count": 35,
     "metadata": {},
     "output_type": "execute_result"
    }
   ],
   "source": [
    "y_train.value_counts(), y_bsmote.value_counts()"
   ]
  },
  {
   "cell_type": "code",
   "execution_count": 36,
   "id": "247a2c98",
   "metadata": {},
   "outputs": [],
   "source": [
    "# 데이터 오버샘플링으로 인한 위치에 따른 데이터 라벨 불균형 존재 -> 데이터 셔플.\n",
    "\n",
    "X_bsmote[\"y_train\"]= y_bsmote\n",
    "X_bsmote=X_bsmote.sample(frac=1, random_state=5252)\n",
    "y_bsmote = X_bsmote[\"y_train\"]\n",
    "del X_bsmote[\"y_train\"]"
   ]
  },
  {
   "cell_type": "markdown",
   "id": "a056dabc",
   "metadata": {},
   "source": [
    "#### ExtraTree Optuna"
   ]
  },
  {
   "cell_type": "code",
   "execution_count": 37,
   "id": "0ad608b2",
   "metadata": {},
   "outputs": [
    {
     "name": "stderr",
     "output_type": "stream",
     "text": [
      "\u001b[32m[I 2022-08-22 00:19:28,167]\u001b[0m A new study created in memory with name: no-name-c7b9742d-5637-4a66-8035-85c7e5c6d0d1\u001b[0m\n",
      "\u001b[32m[I 2022-08-22 00:20:29,906]\u001b[0m Trial 0 finished with value: 0.8948420122057232 and parameters: {'n_estimators': 1162, 'min_samples_split': 10, 'max_depth': 997}. Best is trial 0 with value: 0.8948420122057232.\u001b[0m\n"
     ]
    },
    {
     "name": "stdout",
     "output_type": "stream",
     "text": [
      "FrozenTrial(number=0, values=[0.8948420122057232], datetime_start=datetime.datetime(2022, 8, 22, 0, 19, 28, 169302), datetime_complete=datetime.datetime(2022, 8, 22, 0, 20, 29, 905684), params={'n_estimators': 1162, 'min_samples_split': 10, 'max_depth': 997}, distributions={'n_estimators': IntUniformDistribution(high=1500, low=30, step=1), 'min_samples_split': IntUniformDistribution(high=10, low=2, step=1), 'max_depth': IntUniformDistribution(high=1000, low=20, step=1)}, user_attrs={}, system_attrs={}, intermediate_values={}, trial_id=0, state=TrialState.COMPLETE, value=None)\n"
     ]
    }
   ],
   "source": [
    "def objective(trial):\n",
    "    et_n_estimators = trial.suggest_int(\"n_estimators\", 30, 1500)\n",
    "    et_min_samples_split = trial.suggest_int(\"min_samples_split\", 2, 10)\n",
    "    et_max_depth = trial.suggest_int(\"max_depth\", 20, 1000)\n",
    "    \n",
    "    classifier_obj = ExtraTreesClassifier(n_estimators=et_n_estimators,\n",
    "                                          min_samples_split=et_min_samples_split,\n",
    "                                          max_depth= et_max_depth,\n",
    "                                          random_state = 2020)\n",
    "\n",
    "    score = model_selection.cross_val_score(classifier_obj, X_bsmote, y_bsmote, scoring='roc_auc', cv=skf, n_jobs=-1)\n",
    "    log_loss = score.mean()\n",
    "    return log_loss\n",
    "\n",
    "\n",
    "study = optuna.create_study(direction=\"maximize\")\n",
    "study.optimize(objective, n_trials=50)\n",
    "print(study.best_trial)"
   ]
  },
  {
   "cell_type": "code",
   "execution_count": null,
   "id": "62b9e8a6",
   "metadata": {},
   "outputs": [],
   "source": [
    "max_et = study.best_params\n",
    "et_tune = ExtraTreesClassifier(**max_et, random_state = 2020)\n",
    "et_tune.fit(X_bsmote, y_bsmote)\n",
    "pred = et_tune.predict_proba(test)[:,1]\n",
    "\n",
    "submission = pd.read_csv('sample_submission.csv')\n",
    "submission[\"nerdiness\"] = pred\n",
    "\n",
    "submission.to_csv('et_tune_gms_0821.csv',index=False)"
   ]
  },
  {
   "cell_type": "markdown",
   "id": "9d51e98d",
   "metadata": {},
   "source": [
    "단독 제출 public 점수 : 0.9024656994"
   ]
  },
  {
   "cell_type": "markdown",
   "id": "5e521b58",
   "metadata": {},
   "source": [
    "## Final Ensemble"
   ]
  },
  {
   "cell_type": "markdown",
   "id": "52e16846",
   "metadata": {},
   "source": [
    "개인별로 만든 submission들을 마지막으로 앙상블하였습니다.\n",
    "\n",
    "\n",
    "Version1 : 결측치 마지막 값 다음값으로, 인코딩 피처 기존 피처 대체, SMOTE, ExtraTree  \n",
    "Version2 : 결측치 0, 인코딩 피처 기존 피처 유지, BorderlineSMOTE, ExtraTree & LGBM Voting  \n",
    "Version3 : 칼럼 별 세부적인 분석으로 피처 추가, BorderlineSMOTE, ExtraTree  "
   ]
  },
  {
   "cell_type": "code",
   "execution_count": null,
   "id": "157f782e",
   "metadata": {},
   "outputs": [],
   "source": [
    "import warnings\n",
    "warnings.filterwarnings(\"ignore\")\n",
    "\n",
    "import numpy as np \n",
    "import pandas as pd \n",
    "import os\n",
    "\n",
    "import seaborn as sns\n",
    "import matplotlib.pyplot as plt\n",
    "%matplotlib inline"
   ]
  },
  {
   "cell_type": "code",
   "execution_count": 2,
   "id": "2799be0c",
   "metadata": {},
   "outputs": [],
   "source": [
    "time = '0826'"
   ]
  },
  {
   "cell_type": "code",
   "execution_count": 3,
   "id": "573d7556",
   "metadata": {},
   "outputs": [],
   "source": [
    "# 아래 폴더에 submission 파일이 있다는 가정 하에 수행\n",
    "folder = f'./submission{time}'"
   ]
  },
  {
   "cell_type": "code",
   "execution_count": 4,
   "id": "9ecb9256",
   "metadata": {},
   "outputs": [
    {
     "data": {
      "text/plain": [
       "['et_tune_gms_0821.csv', 'et_tune_jmj_0822.csv', 'voting_ltb_0820.csv']"
      ]
     },
     "execution_count": 4,
     "metadata": {},
     "output_type": "execute_result"
    }
   ],
   "source": [
    "use_submission = os.listdir(folder)\n",
    "use_submission"
   ]
  },
  {
   "cell_type": "code",
   "execution_count": 5,
   "id": "b4fe05d9",
   "metadata": {},
   "outputs": [],
   "source": [
    "use_submission2 = []\n",
    "\n",
    "for i in use_submission:\n",
    "    use_submission2.append(os.path.abspath(f\"./submission{time}\")+('/')+i)"
   ]
  },
  {
   "cell_type": "code",
   "execution_count": 6,
   "id": "97f88d35",
   "metadata": {},
   "outputs": [
    {
     "data": {
      "text/plain": [
       "['C:\\\\Users\\\\hites\\\\Desktop\\\\쿠민의힘\\\\submission0826/et_tune_gms_0821.csv',\n",
       " 'C:\\\\Users\\\\hites\\\\Desktop\\\\쿠민의힘\\\\submission0826/et_tune_jmj_0822.csv',\n",
       " 'C:\\\\Users\\\\hites\\\\Desktop\\\\쿠민의힘\\\\submission0826/voting_ltb_0820.csv']"
      ]
     },
     "execution_count": 6,
     "metadata": {},
     "output_type": "execute_result"
    }
   ],
   "source": [
    "use_submission2"
   ]
  },
  {
   "cell_type": "code",
   "execution_count": 8,
   "id": "a3774f76",
   "metadata": {},
   "outputs": [],
   "source": [
    "outs = [pd.read_csv(f).iloc[:,1:] for f in use_submission2]"
   ]
  },
  {
   "cell_type": "code",
   "execution_count": 9,
   "id": "fb6c39e3",
   "metadata": {},
   "outputs": [],
   "source": [
    "pred_results = []\n",
    "for i in outs:\n",
    "    pred_results.append(i)\n",
    "ensemble_results = pd.concat(pred_results, axis=1)"
   ]
  },
  {
   "cell_type": "code",
   "execution_count": 10,
   "id": "5b83a86b",
   "metadata": {},
   "outputs": [],
   "source": [
    "use_submission_col = []\n",
    "for i in use_submission2:\n",
    "    use_submission_col.append(i.split('/')[1])\n",
    "ensemble_results.columns = use_submission_col"
   ]
  },
  {
   "cell_type": "code",
   "execution_count": 10,
   "id": "57071c47",
   "metadata": {},
   "outputs": [
    {
     "data": {
      "text/html": [
       "<div>\n",
       "<style scoped>\n",
       "    .dataframe tbody tr th:only-of-type {\n",
       "        vertical-align: middle;\n",
       "    }\n",
       "\n",
       "    .dataframe tbody tr th {\n",
       "        vertical-align: top;\n",
       "    }\n",
       "\n",
       "    .dataframe thead th {\n",
       "        text-align: right;\n",
       "    }\n",
       "</style>\n",
       "<table border=\"1\" class=\"dataframe\">\n",
       "  <thead>\n",
       "    <tr style=\"text-align: right;\">\n",
       "      <th></th>\n",
       "      <th>et_tune_gms_0821.csv</th>\n",
       "      <th>et_tune_jmj_0822.csv</th>\n",
       "      <th>voting_ltb_0820.csv</th>\n",
       "    </tr>\n",
       "  </thead>\n",
       "  <tbody>\n",
       "    <tr>\n",
       "      <th>0</th>\n",
       "      <td>0.194389</td>\n",
       "      <td>0.000000</td>\n",
       "      <td>0.017897</td>\n",
       "    </tr>\n",
       "    <tr>\n",
       "      <th>1</th>\n",
       "      <td>0.796259</td>\n",
       "      <td>0.781461</td>\n",
       "      <td>0.863181</td>\n",
       "    </tr>\n",
       "    <tr>\n",
       "      <th>2</th>\n",
       "      <td>0.798931</td>\n",
       "      <td>0.803789</td>\n",
       "      <td>0.894188</td>\n",
       "    </tr>\n",
       "    <tr>\n",
       "      <th>3</th>\n",
       "      <td>0.563794</td>\n",
       "      <td>0.566306</td>\n",
       "      <td>0.746717</td>\n",
       "    </tr>\n",
       "    <tr>\n",
       "      <th>4</th>\n",
       "      <td>0.892452</td>\n",
       "      <td>1.000000</td>\n",
       "      <td>0.965407</td>\n",
       "    </tr>\n",
       "    <tr>\n",
       "      <th>...</th>\n",
       "      <td>...</td>\n",
       "      <td>...</td>\n",
       "      <td>...</td>\n",
       "    </tr>\n",
       "    <tr>\n",
       "      <th>35447</th>\n",
       "      <td>0.914496</td>\n",
       "      <td>1.000000</td>\n",
       "      <td>0.984639</td>\n",
       "    </tr>\n",
       "    <tr>\n",
       "      <th>35448</th>\n",
       "      <td>0.712091</td>\n",
       "      <td>0.711096</td>\n",
       "      <td>0.625221</td>\n",
       "    </tr>\n",
       "    <tr>\n",
       "      <th>35449</th>\n",
       "      <td>0.925184</td>\n",
       "      <td>0.912043</td>\n",
       "      <td>0.967260</td>\n",
       "    </tr>\n",
       "    <tr>\n",
       "      <th>35450</th>\n",
       "      <td>0.150301</td>\n",
       "      <td>0.000000</td>\n",
       "      <td>0.007041</td>\n",
       "    </tr>\n",
       "    <tr>\n",
       "      <th>35451</th>\n",
       "      <td>0.631931</td>\n",
       "      <td>0.613667</td>\n",
       "      <td>0.670350</td>\n",
       "    </tr>\n",
       "  </tbody>\n",
       "</table>\n",
       "<p>35452 rows × 3 columns</p>\n",
       "</div>"
      ],
      "text/plain": [
       "       et_tune_gms_0821.csv  et_tune_jmj_0822.csv  voting_ltb_0820.csv\n",
       "0                  0.194389              0.000000             0.017897\n",
       "1                  0.796259              0.781461             0.863181\n",
       "2                  0.798931              0.803789             0.894188\n",
       "3                  0.563794              0.566306             0.746717\n",
       "4                  0.892452              1.000000             0.965407\n",
       "...                     ...                   ...                  ...\n",
       "35447              0.914496              1.000000             0.984639\n",
       "35448              0.712091              0.711096             0.625221\n",
       "35449              0.925184              0.912043             0.967260\n",
       "35450              0.150301              0.000000             0.007041\n",
       "35451              0.631931              0.613667             0.670350\n",
       "\n",
       "[35452 rows x 3 columns]"
      ]
     },
     "execution_count": 10,
     "metadata": {},
     "output_type": "execute_result"
    }
   ],
   "source": [
    "# 앙상블할 3개의 submission\n",
    "ensemble_results"
   ]
  },
  {
   "cell_type": "markdown",
   "id": "0eeb86bb",
   "metadata": {},
   "source": [
    "**submission 파일간의 상관관계 확인**"
   ]
  },
  {
   "cell_type": "code",
   "execution_count": 11,
   "id": "0cf84686",
   "metadata": {},
   "outputs": [
    {
     "data": {
      "image/png": "[encoded data removed]",
      "text/plain": [
       "<Figure size 1008x864 with 2 Axes>"
      ]
     },
     "metadata": {
      "needs_background": "light"
     },
     "output_type": "display_data"
    }
   ],
   "source": [
    "plt.figure(figsize = (14,12))\n",
    "g = sns.heatmap(ensemble_results.corr(), annot=True, cmap='Blues')\n",
    "g.set_title(\"Correlation between models\")\n",
    "plt.show()"
   ]
  },
  {
   "cell_type": "code",
   "execution_count": 21,
   "id": "38c7ef76",
   "metadata": {},
   "outputs": [
    {
     "name": "stdout",
     "output_type": "stream",
     "text": [
      "3\n",
      "'/p0.1mean_submission_3_0826.csv' is ready to submit.\n"
     ]
    }
   ],
   "source": [
    "# 아래 폴더가 있다는 가정 하에 수행\n",
    "folder = f'./submission{time}'\n",
    "nf = 0\n",
    "for f in use_submission2:\n",
    "    ext = f.split('.')[1]\n",
    "    if ext == 'csv': \n",
    "        s = pd.read_csv(f)\n",
    "    else: \n",
    "        continue\n",
    "    if len(s.columns) !=2:\n",
    "        continue\n",
    "    if nf == 0: \n",
    "        slist = s\n",
    "    else: \n",
    "        slist = pd.merge(slist, s, on=\"index\")\n",
    "    nf += 1\n",
    "print(nf)\n",
    "\n",
    "p = 0.1 # p의 값에 따른 멱평균 ( 1일 경우 산술평균 )\n",
    "if nf >= 2:\n",
    "    preds = []\n",
    "    for i in range(1):\n",
    "        pred = 0\n",
    "        for j in range(nf):\n",
    "            pred = pred + slist.iloc[:,j*1+i+1]**p \n",
    "        pred = pred / nf    \n",
    "        pred = pred**(1/p)\n",
    "        preds.append(pred)     \n",
    "    preds = pd.DataFrame(preds).T\n",
    "    fname = f\"/p{p}mean_submission_{nf}_{time}.csv\"\n",
    "    preds.columns = ['nerdiness']\n",
    "    pd.concat([pd.Series(slist.index, name=\"index\"), preds] ,axis=1).to_csv(os.path.abspath(f\"./submission{time}\")+fname, index=False)\n",
    "    print(f\"'{fname}' is ready to submit.\")"
   ]
  },
  {
   "cell_type": "code",
   "execution_count": 22,
   "id": "ae381729",
   "metadata": {},
   "outputs": [
    {
     "data": {
      "text/html": [
       "<div>\n",
       "<style scoped>\n",
       "    .dataframe tbody tr th:only-of-type {\n",
       "        vertical-align: middle;\n",
       "    }\n",
       "\n",
       "    .dataframe tbody tr th {\n",
       "        vertical-align: top;\n",
       "    }\n",
       "\n",
       "    .dataframe thead th {\n",
       "        text-align: right;\n",
       "    }\n",
       "</style>\n",
       "<table border=\"1\" class=\"dataframe\">\n",
       "  <thead>\n",
       "    <tr style=\"text-align: right;\">\n",
       "      <th></th>\n",
       "      <th>index</th>\n",
       "      <th>nerdiness</th>\n",
       "    </tr>\n",
       "  </thead>\n",
       "  <tbody>\n",
       "    <tr>\n",
       "      <th>0</th>\n",
       "      <td>0</td>\n",
       "      <td>0.001098</td>\n",
       "    </tr>\n",
       "    <tr>\n",
       "      <th>1</th>\n",
       "      <td>1</td>\n",
       "      <td>0.812946</td>\n",
       "    </tr>\n",
       "    <tr>\n",
       "      <th>2</th>\n",
       "      <td>2</td>\n",
       "      <td>0.831288</td>\n",
       "    </tr>\n",
       "    <tr>\n",
       "      <th>3</th>\n",
       "      <td>3</td>\n",
       "      <td>0.620610</td>\n",
       "    </tr>\n",
       "    <tr>\n",
       "      <th>4</th>\n",
       "      <td>4</td>\n",
       "      <td>0.951658</td>\n",
       "    </tr>\n",
       "    <tr>\n",
       "      <th>...</th>\n",
       "      <td>...</td>\n",
       "      <td>...</td>\n",
       "    </tr>\n",
       "    <tr>\n",
       "      <th>35447</th>\n",
       "      <td>35447</td>\n",
       "      <td>0.965723</td>\n",
       "    </tr>\n",
       "    <tr>\n",
       "      <th>35448</th>\n",
       "      <td>35448</td>\n",
       "      <td>0.681679</td>\n",
       "    </tr>\n",
       "    <tr>\n",
       "      <th>35449</th>\n",
       "      <td>35449</td>\n",
       "      <td>0.934564</td>\n",
       "    </tr>\n",
       "    <tr>\n",
       "      <th>35450</th>\n",
       "      <td>35450</td>\n",
       "      <td>0.000634</td>\n",
       "    </tr>\n",
       "    <tr>\n",
       "      <th>35451</th>\n",
       "      <td>35451</td>\n",
       "      <td>0.638260</td>\n",
       "    </tr>\n",
       "  </tbody>\n",
       "</table>\n",
       "<p>35452 rows × 2 columns</p>\n",
       "</div>"
      ],
      "text/plain": [
       "       index  nerdiness\n",
       "0          0   0.001098\n",
       "1          1   0.812946\n",
       "2          2   0.831288\n",
       "3          3   0.620610\n",
       "4          4   0.951658\n",
       "...      ...        ...\n",
       "35447  35447   0.965723\n",
       "35448  35448   0.681679\n",
       "35449  35449   0.934564\n",
       "35450  35450   0.000634\n",
       "35451  35451   0.638260\n",
       "\n",
       "[35452 rows x 2 columns]"
      ]
     },
     "execution_count": 22,
     "metadata": {},
     "output_type": "execute_result"
    }
   ],
   "source": [
    "pd.read_csv(f'./submission{time}/p0.1mean_submission_3_0826.csv')"
   ]
  },
  {
   "cell_type": "markdown",
   "id": "8a864451",
   "metadata": {},
   "source": [
    "public 점수는 0.90684로 5위를 기록하였고 private는 0.90276로 7위를 기록하였습니다. "
   ]
  }
 ],
 "metadata": {
  "kernelspec": {
   "display_name": "Python 3 (ipykernel)",
   "language": "python",
   "name": "python3"
  },
  "language_info": {
   "codemirror_mode": {
    "name": "ipython",
    "version": 3
   },
   "file_extension": ".py",
   "mimetype": "text/x-python",
   "name": "python",
   "nbconvert_exporter": "python",
   "pygments_lexer": "ipython3",
   "version": "3.9.11"
  }
 },
 "nbformat": 4,
 "nbformat_minor": 5
}
